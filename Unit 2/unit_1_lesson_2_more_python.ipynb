{
 "cells": [
  {
   "cell_type": "markdown",
   "metadata": {},
   "source": [
    "# More Python Fundamentals"
   ]
  },
  {
   "cell_type": "markdown",
   "metadata": {},
   "source": [
    "In these excercises, we will address more of what I consider Python fundamentals."
   ]
  },
  {
   "cell_type": "markdown",
   "metadata": {},
   "source": [
    "## File Paths"
   ]
  },
  {
   "cell_type": "markdown",
   "metadata": {},
   "source": [
    "File paths in Python can seem very peculiar to newcomers to programming. Typically, we see a filpath represented as something like C:\\Documents\\my_document.docx.  In Python, we can not just reference a file this way. Let's walk through the 3 ways we can reference file names in Python using the week 1 or week 2 excercise data."
   ]
  },
  {
   "cell_type": "code",
   "execution_count": null,
   "metadata": {
    "collapsed": true
   },
   "outputs": [],
   "source": [
    "input_fc = \"C:\\\\Users\\\\greg6750\\\\Documents\\\\IPython Notebooks\\\\Python_for_GIS_and_RS\\\\Week_1\\\\data\\\\Missouri.gdb\\\\County\""
   ]
  },
  {
   "cell_type": "markdown",
   "metadata": {},
   "source": [
    "Let's print out input_fc to see how Python interprets that."
   ]
  },
  {
   "cell_type": "code",
   "execution_count": null,
   "metadata": {},
   "outputs": [],
   "source": [
    "print(input_fc)"
   ]
  },
  {
   "cell_type": "markdown",
   "metadata": {},
   "source": [
    "Notice that Python has removed the double backslashes. Rather than using double backslashes, we could use single forward slashes as follows."
   ]
  },
  {
   "cell_type": "code",
   "execution_count": null,
   "metadata": {
    "collapsed": true
   },
   "outputs": [],
   "source": [
    "input_fc = \"C:/Users/greg6750/Documents/IPython Notebooks/Python_for_GIS_and_RS/Week_1/data/Missouri.gdb/County\""
   ]
  },
  {
   "cell_type": "markdown",
   "metadata": {},
   "source": [
    "Now, when we print that out we see that Python shows a single forward slash."
   ]
  },
  {
   "cell_type": "code",
   "execution_count": null,
   "metadata": {},
   "outputs": [],
   "source": [
    "print(input_fc)"
   ]
  },
  {
   "cell_type": "markdown",
   "metadata": {},
   "source": [
    "The final way to reference file path is by placeing the letter _r_ in front of the string. This indicates to Python that the single backslash not be read as an escape character."
   ]
  },
  {
   "cell_type": "code",
   "execution_count": null,
   "metadata": {
    "collapsed": true
   },
   "outputs": [],
   "source": [
    "input_fc = r\"C:\\Users\\greg6750\\Documents\\IPython Notebooks\\Python_for_GIS_and_RS\\Week_1\\data\\Missouri.gdb\\County\""
   ]
  },
  {
   "cell_type": "markdown",
   "metadata": {},
   "source": [
    "Now, when we print this string out, we should see single backslashes."
   ]
  },
  {
   "cell_type": "code",
   "execution_count": null,
   "metadata": {},
   "outputs": [],
   "source": [
    "print(input_fc)"
   ]
  },
  {
   "cell_type": "markdown",
   "metadata": {},
   "source": [
    "## Modules"
   ]
  },
  {
   "cell_type": "markdown",
   "metadata": {
    "collapsed": true
   },
   "source": [
    "Modules are functionality that can be imported into Python to extend its capabilities. Here, we will import and examine a few modules that we will use in the future."
   ]
  },
  {
   "cell_type": "code",
   "execution_count": null,
   "metadata": {
    "collapsed": true
   },
   "outputs": [],
   "source": [
    "import arcpy"
   ]
  },
  {
   "cell_type": "markdown",
   "metadata": {},
   "source": [
    "Let's see what version of arcpy we're using."
   ]
  },
  {
   "cell_type": "code",
   "execution_count": null,
   "metadata": {},
   "outputs": [],
   "source": [
    "arcpy.GetInstallInfo()"
   ]
  },
  {
   "cell_type": "markdown",
   "metadata": {},
   "source": [
    "## Question 1: What is the version number of arcpy?"
   ]
  },
  {
   "cell_type": "markdown",
   "metadata": {},
   "source": [
    "You can also print out the help for each function using the __doc__ command. Let's see what the ArcGIS Documentation says about the [Clip function](http://pro.arcgis.com/en/pro-app/tool-reference/analysis/clip.htm)"
   ]
  },
  {
   "cell_type": "code",
   "execution_count": null,
   "metadata": {},
   "outputs": [],
   "source": [
    "arcpy.Clip_analysis.__doc__"
   ]
  },
  {
   "cell_type": "markdown",
   "metadata": {},
   "source": [
    "We can also list out all of the functions within the arcpy library using the __dir__ command."
   ]
  },
  {
   "cell_type": "code",
   "execution_count": null,
   "metadata": {},
   "outputs": [],
   "source": [
    "dir(arcpy)"
   ]
  },
  {
   "cell_type": "markdown",
   "metadata": {},
   "source": [
    "We can count the number of functions in the arcpy module using the __len__ function,"
   ]
  },
  {
   "cell_type": "code",
   "execution_count": null,
   "metadata": {},
   "outputs": [],
   "source": [
    "len(dir(arcpy))"
   ]
  },
  {
   "cell_type": "markdown",
   "metadata": {},
   "source": [
    "## Question 2: How many functions are there in arcpy?"
   ]
  },
  {
   "cell_type": "markdown",
   "metadata": {},
   "source": [
    "Another module that we'll be using is the _time_ module. This will help us track how long processes take to run, how to manipulate strings that contain time or data information, and much more. Let's import _time_."
   ]
  },
  {
   "cell_type": "code",
   "execution_count": null,
   "metadata": {
    "collapsed": true
   },
   "outputs": [],
   "source": [
    "import time"
   ]
  },
  {
   "cell_type": "markdown",
   "metadata": {},
   "source": [
    "We can get the locatime using this time object module."
   ]
  },
  {
   "cell_type": "code",
   "execution_count": null,
   "metadata": {},
   "outputs": [],
   "source": [
    "time.localtime()"
   ]
  },
  {
   "cell_type": "markdown",
   "metadata": {},
   "source": [
    "This function returned a tuple containing year, month, day, hour, min, sec, etc. describing the local time. An easier way to represent time would be as asctime."
   ]
  },
  {
   "cell_type": "code",
   "execution_count": null,
   "metadata": {},
   "outputs": [],
   "source": [
    "time.asctime()"
   ]
  },
  {
   "cell_type": "markdown",
   "metadata": {},
   "source": [
    "## Conditoinal Statements"
   ]
  },
  {
   "cell_type": "markdown",
   "metadata": {},
   "source": [
    "Conditional statements, also knows as if/else statements, are common to all programming languages. COnditional statements evaluate data, and make a decision based on the result. Let's write a few if/else statements.\n",
    "\n",
    "Python has a module called _random_ which can be used to generate random numbers. Here we can similate a coinflip using random. Import random."
   ]
  },
  {
   "cell_type": "code",
   "execution_count": null,
   "metadata": {
    "collapsed": true
   },
   "outputs": [],
   "source": [
    "import random"
   ]
  },
  {
   "cell_type": "markdown",
   "metadata": {},
   "source": [
    "We can generate a random number that is either 1 or 2 using the _randint_ function.  If the number is 1, we say the number is odd. If the number is 2 we say the number is even. Try the following code."
   ]
  },
  {
   "cell_type": "code",
   "execution_count": null,
   "metadata": {},
   "outputs": [],
   "source": [
    "random_val = random.randint(1, 2)\n",
    "if random_val == 1:\n",
    "    print(str(random_val) + \" is Odd\")\n",
    "else: \n",
    "    print(str(random_val) + \" is Even\")"
   ]
  },
  {
   "cell_type": "markdown",
   "metadata": {},
   "source": [
    "Let's write a conditional statement that evaluates a list of data. Type and execute the following code."
   ]
  },
  {
   "cell_type": "code",
   "execution_count": null,
   "metadata": {},
   "outputs": [],
   "source": [
    "data = [1,2,3,4,5,6,7,8,9,10]\n",
    "for val in data:\n",
    "    if val % 2 == 0:\n",
    "        print(val,\"No remainder\") # the % sign is the modulus operator and tests for a remainder\n",
    "    elif val % 3 == 2:\n",
    "        print(val,\"Remainder of Two\")\n",
    "    else:\n",
    "        print(\"Final Case\")"
   ]
  },
  {
   "cell_type": "markdown",
   "metadata": {},
   "source": [
    "COnditional statements are very powerful. You will be using the a lot! [Check out this site to learn more about the comparison operators and logical operators n Python](https://www.tutorialspoint.com/python/python_basic_operators.htm)"
   ]
  },
  {
   "cell_type": "markdown",
   "metadata": {},
   "source": [
    "## Loops"
   ]
  },
  {
   "cell_type": "markdown",
   "metadata": {},
   "source": [
    "### While Loops"
   ]
  },
  {
   "cell_type": "markdown",
   "metadata": {},
   "source": [
    "Truth be told, I never use while loops! This might actually be the first one I've written in Python. This is because I find _for_ loops and conditional statements more intuitive.  That being said, let's take our random number generator example and run it 10 times using a while loop and see what answers we get."
   ]
  },
  {
   "cell_type": "code",
   "execution_count": null,
   "metadata": {},
   "outputs": [],
   "source": [
    "import random\n",
    "\n",
    "i = 1\n",
    "while i <= 10:\n",
    "    random_val = random.randint(1, 2)\n",
    "    if random_val == 1:\n",
    "        print(\"Trial \" + str(i) + \": \" + str(random_val) + \" is Odd\")\n",
    "    else: \n",
    "        print(\"Trial \" + str(i) + \": \" + str(random_val) + \" is Even\")\n",
    "    i += 1"
   ]
  },
  {
   "cell_type": "markdown",
   "metadata": {},
   "source": [
    "## Question 3: How many odd and how many even results did you get over 10 Trials?"
   ]
  },
  {
   "cell_type": "markdown",
   "metadata": {},
   "source": [
    "In the example above, the trials are run while the value of _i_ is less than 10. Once the 10th trial is hit, Python exits out of the loop."
   ]
  },
  {
   "cell_type": "markdown",
   "metadata": {},
   "source": [
    "### For Loops"
   ]
  },
  {
   "cell_type": "markdown",
   "metadata": {},
   "source": [
    "Like I mentioned above, I prefer using for loops to while loops. For loops repeat parts of your code but are not tied to a specific condition. We will encounter for loops throughout our programming careers and understanding them will be key to your growth as a programmer or developer. Let's write a few for loops."
   ]
  },
  {
   "cell_type": "code",
   "execution_count": null,
   "metadata": {
    "collapsed": true
   },
   "outputs": [],
   "source": [
    "top_five = [\"Patriots\", \"Seahawks\", \"Cowboys\", \"Chiefs\", \"Steelers\"]"
   ]
  },
  {
   "cell_type": "markdown",
   "metadata": {},
   "source": [
    "Here we've created a list of the top 5 teams in the NFL (hypothetical). We can print out each team name using a for loop."
   ]
  },
  {
   "cell_type": "code",
   "execution_count": null,
   "metadata": {},
   "outputs": [],
   "source": [
    "for team in top_five:\n",
    "    print(team)"
   ]
  },
  {
   "cell_type": "markdown",
   "metadata": {},
   "source": [
    "We can print out each team name in all caps using the _upper_ function."
   ]
  },
  {
   "cell_type": "code",
   "execution_count": null,
   "metadata": {},
   "outputs": [],
   "source": [
    "for team in top_five:\n",
    "    print(team.upper())"
   ]
  },
  {
   "cell_type": "markdown",
   "metadata": {},
   "source": [
    "A practical application of for loops is that we can list all datasets in a folder or geodatabase. Packaged in the Week 2 folder we have a census dataset.  Let's import the census dataset using arcpy and list all of the feature classes in the census geodatabase.  "
   ]
  },
  {
   "cell_type": "code",
   "execution_count": null,
   "metadata": {},
   "outputs": [],
   "source": [
    "import arcpy\n",
    "\n",
    "arcpy.env.workspace = r'C:\\Users\\greg6750\\Documents\\IPython Notebooks\\Python_for_GIS_and_RS\\Week_2\\data\\tlgdb_2016_a_44_ri.gdb'\n",
    "\n",
    "fcs = arcpy.ListFeatureClasses()\n",
    "\n",
    "for fc in fcs:\n",
    "    print(fc)"
   ]
  },
  {
   "cell_type": "markdown",
   "metadata": {},
   "source": [
    "Here, we imported arcpy. We set the arcpy environment to be the census geodatabase. We used ListFeatureClasses to create a list of feature classes in the geodatabase, and we printed out the names of each feature class. We can also print out the number of features in the geodatabase."
   ]
  },
  {
   "cell_type": "code",
   "execution_count": null,
   "metadata": {},
   "outputs": [],
   "source": [
    "print(len(fcs))"
   ]
  },
  {
   "cell_type": "markdown",
   "metadata": {},
   "source": [
    "## Question 4: How many feature classes are in that geodatabase?"
   ]
  },
  {
   "cell_type": "markdown",
   "metadata": {},
   "source": [
    "##  OS"
   ]
  },
  {
   "cell_type": "markdown",
   "metadata": {},
   "source": [
    "The [_os_ module](https://docs.python.org/2/library/os.html) allows Python users to interact with their computer's operating system.  This includes accessing directories, files, and other data on the OS.  It is a library that you will use very often to find files, move files, create file path, and more. Here, we'll introduce you to a few ways to use OS."
   ]
  },
  {
   "cell_type": "code",
   "execution_count": null,
   "metadata": {
    "collapsed": true
   },
   "outputs": [],
   "source": [
    "import os"
   ]
  },
  {
   "cell_type": "markdown",
   "metadata": {},
   "source": [
    "Let's take one of the filenames that we've used above."
   ]
  },
  {
   "cell_type": "code",
   "execution_count": null,
   "metadata": {
    "collapsed": true
   },
   "outputs": [],
   "source": [
    "missouri_gdb = r\"C:\\Users\\greg6750\\Documents\\IPython Notebooks\\Python_for_GIS_and_RS\\Week_1\\data\\Missouri.gdb\""
   ]
  },
  {
   "cell_type": "markdown",
   "metadata": {},
   "source": [
    "We can use os to split that path into geodatabase and the path to the geodatabase as follows:"
   ]
  },
  {
   "cell_type": "code",
   "execution_count": null,
   "metadata": {},
   "outputs": [],
   "source": [
    "os.path.basename(missouri_gdb) #returns the geodatabase"
   ]
  },
  {
   "cell_type": "code",
   "execution_count": null,
   "metadata": {},
   "outputs": [],
   "source": [
    "os.path.dirname(missouri_gdb) #returns the directory"
   ]
  },
  {
   "cell_type": "markdown",
   "metadata": {},
   "source": [
    "You could also use:"
   ]
  },
  {
   "cell_type": "code",
   "execution_count": null,
   "metadata": {},
   "outputs": [],
   "source": [
    "path, gdb = os.path.split(missouri_gdb)\n",
    "print(path) #returns the path\n",
    "print(gdb) #returns the geodatabase"
   ]
  },
  {
   "cell_type": "markdown",
   "metadata": {},
   "source": [
    "Another cool function in _os_ is _walk_. Walk can be used to list all of the files in a directory.  Choose a directory on your machine and try it!"
   ]
  },
  {
   "cell_type": "code",
   "execution_count": null,
   "metadata": {},
   "outputs": [],
   "source": [
    "folder = r'C:\\Users\\greg6750\\Documents\\IPython Notebooks\\Python_for_GIS_and_RS\\Week_1'\n",
    "for (path, dirs, files) in os.walk(folder):\n",
    "    print(path)\n",
    "    print(dirs)\n",
    "    print(files)"
   ]
  },
  {
   "cell_type": "markdown",
   "metadata": {},
   "source": [
    "This should list everything you find in the folder, including subsolders!"
   ]
  },
  {
   "cell_type": "markdown",
   "metadata": {},
   "source": [
    "## SYS"
   ]
  },
  {
   "cell_type": "markdown",
   "metadata": {},
   "source": [
    "The [_sys_ module](https://docs.python.org/2/library/sys.html) provides access to some variables used or maintained by the interpreter and to functions that interact strongly with the interpreter. Here, we'll learn a few common ways that you might use _sys_."
   ]
  },
  {
   "cell_type": "code",
   "execution_count": null,
   "metadata": {
    "collapsed": true
   },
   "outputs": [],
   "source": [
    "import sys"
   ]
  },
  {
   "cell_type": "markdown",
   "metadata": {},
   "source": [
    "You can use _sys.path_ to look at your Windows path variable."
   ]
  },
  {
   "cell_type": "code",
   "execution_count": null,
   "metadata": {},
   "outputs": [],
   "source": [
    "print(sys.path)"
   ]
  },
  {
   "cell_type": "markdown",
   "metadata": {},
   "source": [
    "We can search for Python in our system path variable. If it is in there, we should be able to execute python from the Windows command prompt."
   ]
  },
  {
   "cell_type": "code",
   "execution_count": null,
   "metadata": {},
   "outputs": [],
   "source": [
    "path = sys.path\n",
    "for element in path:\n",
    "    if 'python' in element:\n",
    "        print(\"Python is in our Path variable!\")"
   ]
  },
  {
   "cell_type": "markdown",
   "metadata": {},
   "source": [
    "## Question 5: Is Python in your path variable?"
   ]
  },
  {
   "cell_type": "markdown",
   "metadata": {},
   "source": [
    "If Python is in your path, you should be able to run python from your command prompt as follows: ![](https://cdn.rawgit.com/gbrunner/Python_for_GIS_and_RS/master/Week_2/images/command_prompt.png)\n",
    "\n",
    "If it's not, we can add Python to our system path as follows.\n",
    "1. Go to your system properties.![](https://cdn.rawgit.com/gbrunner/Python_for_GIS_and_RS/master/Week_2/images/sys_properties.png)\n",
    "\n",
    "2. Open your environment variables.![](https://cdn.rawgit.com/gbrunner/Python_for_GIS_and_RS/master/Week_2/images/env_variables.png)\n",
    "\n",
    "3. Select Path and click 'Edit'.![](https://cdn.rawgit.com/gbrunner/Python_for_GIS_and_RS/master/Week_2/images/edit_vars.png)\n",
    "\n",
    "4. Add the location of the python.exe file (usually something like C:\\Python27\\ArcGIS10.3\\python.exe) to your path.\n",
    "\n",
    "Now, you should be able to type 'python' at the command prompt and enter a python session. "
   ]
  },
  {
   "cell_type": "markdown",
   "metadata": {},
   "source": [
    "## Getting User Input"
   ]
  },
  {
   "cell_type": "markdown",
   "metadata": {},
   "source": [
    "A common way for python scripts to take user input is to use the sys module. In the Week 2 materials, you should see a addition.py file. The only code in that file is the following."
   ]
  },
  {
   "cell_type": "code",
   "execution_count": null,
   "metadata": {},
   "outputs": [],
   "source": [
    "import sys\n",
    "\n",
    "var1 = int(sys.argv[1])\n",
    "var2 = int(sys.argv[2])\n",
    "\n",
    "print('The answer is ' + str(var1+var2))"
   ]
  },
  {
   "cell_type": "markdown",
   "metadata": {
    "collapsed": true
   },
   "source": [
    "If this code is run at the command line as follows.![](https://cdn.rawgit.com/gbrunner/Python_for_GIS_and_RS/master/Week_2/images/addition.png)\n",
    "\n",
    "Notice that the command line arguments get entered immediately after the script name and they are separated by spaces. Try is out!"
   ]
  },
  {
   "cell_type": "markdown",
   "metadata": {},
   "source": [
    "## Guidenlines for Python Coding"
   ]
  },
  {
   "cell_type": "markdown",
   "metadata": {},
   "source": [
    "First things first:"
   ]
  },
  {
   "cell_type": "code",
   "execution_count": null,
   "metadata": {},
   "outputs": [],
   "source": [
    "import this"
   ]
  },
  {
   "cell_type": "markdown",
   "metadata": {},
   "source": [
    "Take these recommendations into account while coding!\n",
    "\n",
    "Additionally, Python has what is called [PEP 8 - Style Guide for Python Code](https://www.python.org/dev/peps/pep-0008/). The '8' is becuase this is version 8.  Let's check it out. Not every recommendation here is madatory, but they should definately be considered best pratices."
   ]
  }
 ],
 "metadata": {
  "anaconda-cloud": {},
  "kernelspec": {
   "display_name": "Python 3",
   "language": "python",
   "name": "python3"
  },
  "language_info": {
   "codemirror_mode": {
    "name": "ipython",
    "version": 3
   },
   "file_extension": ".py",
   "mimetype": "text/x-python",
   "name": "python",
   "nbconvert_exporter": "python",
   "pygments_lexer": "ipython3",
   "version": "3.6.9"
  }
 },
 "nbformat": 4,
 "nbformat_minor": 1
}
