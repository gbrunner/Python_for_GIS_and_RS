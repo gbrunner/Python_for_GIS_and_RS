{
 "cells": [
  {
   "cell_type": "markdown",
   "metadata": {},
   "source": [
    "# Introduction to Python in ArcMap"
   ]
  },
  {
   "cell_type": "markdown",
   "metadata": {},
   "source": [
    "## The Python Window in ArcMap"
   ]
  },
  {
   "cell_type": "markdown",
   "metadata": {},
   "source": [
    "Our introduction to Python will be through using the Python Window in ArcMap. The Python Window was introduced at ArcGIS 10.0 and replaced what was known as the command line window in ArcGIS 9."
   ]
  },
  {
   "cell_type": "markdown",
   "metadata": {},
   "source": [
    "1. Open ArcMap.\n",
    "2. Select the Geoprocessing tab at the top of ArcMap. \n",
    "3. Select _Python_ to open the Python Window. ![](https://cdn.rawgit.com/gbrunner/Python_for_GIS_and_RS/master/Week_1/images/open_python_window.png) \n",
    "4. In the Python Window, type the following:"
   ]
  },
  {
   "cell_type": "code",
   "execution_count": null,
   "metadata": {},
   "outputs": [],
   "source": [
    "print(\"Hello World!\")"
   ]
  },
  {
   "cell_type": "markdown",
   "metadata": {},
   "source": [
    "This is what you should see. ![](https://cdn.rawgit.com/gbrunner/Python_for_GIS_and_RS/master/Week_1/images/hello_world.png)"
   ]
  },
  {
   "cell_type": "markdown",
   "metadata": {},
   "source": [
    "Congratulations! This is your first line fo Python code!"
   ]
  },
  {
   "cell_type": "markdown",
   "metadata": {},
   "source": [
    "## Using Python for Geoprocessing"
   ]
  },
  {
   "cell_type": "markdown",
   "metadata": {},
   "source": [
    "A large part of what you'll be learning in this class is how to use Python to solve spatial problems. This will involve strginging together common geoprocessing tools from ArcGIS to perform larger tasks. You may have done this before in [Model Builder](http://pro.arcgis.com/en/pro-app/help/analysis/geoprocessing/modelbuilder/what-is-modelbuilder-.htm). Through this class, I hope you find it beneficial to start creating these types of tools with Python rather than Model Builder.\n",
    "\n",
    "To introduce you to some of the processing and analysis capabilities exposed by ArcGIS through Python, let's walk through a few examples of what you can do.  These are just introductory examples. We will dive deeper into these tools throughout the class.\n",
    "\n",
    "If you have not already done so, go to https://github.com/gbrunner/Python_for_GIS_and_RS and download today's course materials. Inside the course materials for Week 1, you should see a data folder containing a Map Document (mxd) and a geodatabase (.gdb file). Open the Map Document titled Excercise1.mxd.\n",
    "\n",
    "When you open it, you should see three layers:\n",
    "- Roads\n",
    "- Saint_Charles\n",
    "- County\n",
    "\n",
    "If those layers don't show up or the paths are broken, just remove the layers from ArcMap and add them again directly from the Missouri.gdb in the Week_1\\data folder.\n",
    "\n",
    "The first thing we're going to do is use Python to determine how many counties are in Missouri. This can be done by entering the following in the Python Window:\n",
    "\n"
   ]
  },
  {
   "cell_type": "code",
   "execution_count": null,
   "metadata": {},
   "outputs": [],
   "source": [
    "arcpy.GetCount_management(\"County\")"
   ]
  },
  {
   "cell_type": "markdown",
   "metadata": {},
   "source": [
    "This should look like:![](https://cdn.rawgit.com/gbrunner/Python_for_GIS_and_RS/master/Week_1/images/GetCount_Counties.png)"
   ]
  },
  {
   "cell_type": "markdown",
   "metadata": {},
   "source": [
    "## Question 1: What is the result of the GetCount operation?"
   ]
  },
  {
   "cell_type": "markdown",
   "metadata": {},
   "source": [
    "## Question 2: This value is not the number of counties in Missouri. The number of counties in Missouri is 114.  Can you explain the discrepancy between the count and the true number of counties in Missouri?"
   ]
  },
  {
   "cell_type": "markdown",
   "metadata": {},
   "source": [
    "## Geoprocessing with Python: Clip"
   ]
  },
  {
   "cell_type": "markdown",
   "metadata": {},
   "source": [
    "ArcGIS exposes all of its geoprocessing (GP) tools as Python functions.  For example, let's take a look at ArcToolbox. In the Analysis toolbox, there is a Clip tool. Open that up.![](https://cdn.rawgit.com/gbrunner/Python_for_GIS_and_RS/master/Week_1/images/clip_analysis_tbx.png)"
   ]
  },
  {
   "cell_type": "markdown",
   "metadata": {},
   "source": [
    "The Clip tool takes 3 required inputs (Input Features, Clip Features, Output Feature Class) and 1 optional input (XY Tolerance). This tool is exposed through Python and can be accessed through the Python Window. In the Python Window, type:"
   ]
  },
  {
   "cell_type": "code",
   "execution_count": null,
   "metadata": {
    "collapsed": true
   },
   "outputs": [],
   "source": [
    "arcpy.Clip_analysis(\"Roads\", \"Saint_Charles\", \"Saint_Charles_Roads\")"
   ]
  },
  {
   "cell_type": "markdown",
   "metadata": {},
   "source": [
    "![](https://cdn.rawgit.com/gbrunner/Python_for_GIS_and_RS/master/Week_1/images/Clip_Analysis.png). Here we're seeing \"Roads\" as the Input Features, \"Saint_Charles\" as the Clip Features, and \"Saint_Charles_Roads\" as the Output Features. Run the code."
   ]
  },
  {
   "cell_type": "markdown",
   "metadata": {},
   "source": [
    "## Question 3: What was the result?"
   ]
  },
  {
   "cell_type": "markdown",
   "metadata": {},
   "source": [
    "Notice as you are typing in the Python window, on the right hand side, the help shows up and the parameter that you are currently entering is highlighted in yellow. This capability is very helpful and can generally be found in any good Python IDE. ![](https://cdn.rawgit.com/gbrunner/Python_for_GIS_and_RS/master/Week_1/images/clip_code_completion.png)"
   ]
  },
  {
   "cell_type": "markdown",
   "metadata": {},
   "source": [
    "## Describing Data with Python"
   ]
  },
  {
   "cell_type": "markdown",
   "metadata": {},
   "source": [
    "Python can be used to access metadata belonging to a feature class. We will learn more about this is a few weeks. While we have the MXD open, let's learn a little bit about the data in the Table of Contents. In the Python Window, execute the following code:"
   ]
  },
  {
   "cell_type": "code",
   "execution_count": null,
   "metadata": {
    "collapsed": true
   },
   "outputs": [],
   "source": [
    "desc = arcpy.Describe(\"County\")\n",
    "desc.spatialReference.name\n",
    "desc.path"
   ]
  },
  {
   "cell_type": "markdown",
   "metadata": {},
   "source": [
    "That willl look like this: ![](https://cdn.rawgit.com/gbrunner/Python_for_GIS_and_RS/master/Week_1/images/arcpy_describe.png)"
   ]
  },
  {
   "cell_type": "markdown",
   "metadata": {},
   "source": [
    "## Question 4: What is the spatial reference of the County layer?"
   ]
  },
  {
   "cell_type": "markdown",
   "metadata": {},
   "source": [
    "## Listing Data with Python"
   ]
  },
  {
   "cell_type": "markdown",
   "metadata": {},
   "source": [
    "For our last example, we'll show how you can use Python to get a list of datasets in a geodatabase. using the same desc.path variable that we just created. Continuing in the same Python Window, execute the following:"
   ]
  },
  {
   "cell_type": "code",
   "execution_count": null,
   "metadata": {
    "collapsed": true
   },
   "outputs": [],
   "source": [
    "arcpy.env.workspace = desc.path\n",
    "fcs = arcpy.ListFeatureClasses()\n",
    "print(fcs)"
   ]
  },
  {
   "cell_type": "markdown",
   "metadata": {},
   "source": [
    "That will look like this: ![](https://cdn.rawgit.com/gbrunner/Python_for_GIS_and_RS/master/Week_1/images/list_features.png)"
   ]
  },
  {
   "cell_type": "markdown",
   "metadata": {},
   "source": [
    "## Question 5: What is the result of print(fcs)?"
   ]
  },
  {
   "cell_type": "markdown",
   "metadata": {},
   "source": [
    "That concludes Excercise 1. You can close ArcMap. For the next Excercise, we will be writing our Python code in a stand alone Python interpreter such as IDLE or PyScripter."
   ]
  },
  {
   "cell_type": "code",
   "execution_count": null,
   "metadata": {
    "collapsed": true
   },
   "outputs": [],
   "source": []
  }
 ],
 "metadata": {
  "anaconda-cloud": {},
  "kernelspec": {
   "display_name": "Python 3",
   "language": "python",
   "name": "python3"
  },
  "language_info": {
   "codemirror_mode": {
    "name": "ipython",
    "version": 3
   },
   "file_extension": ".py",
   "mimetype": "text/x-python",
   "name": "python",
   "nbconvert_exporter": "python",
   "pygments_lexer": "ipython3",
   "version": "3.6.9"
  }
 },
 "nbformat": 4,
 "nbformat_minor": 1
}
