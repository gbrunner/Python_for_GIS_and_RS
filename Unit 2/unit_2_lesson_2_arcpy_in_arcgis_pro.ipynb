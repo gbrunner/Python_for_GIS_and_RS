{
 "cells": [
  {
   "cell_type": "markdown",
   "metadata": {
    "collapsed": true
   },
   "source": [
    "# Intro to Arcpy"
   ]
  },
  {
   "cell_type": "markdown",
   "metadata": {},
   "source": [
    "In these excercises, we will start working with the Arcpy site package, which allows access to ArcGIS processing and analysis capabilities through Python. Arcpy contains modules, classes, and functions, all of which will give you access to capabliities that you should already be familiar with in ArcGIS."
   ]
  },
  {
   "cell_type": "markdown",
   "metadata": {},
   "source": [
    "## Arcpy"
   ]
  },
  {
   "cell_type": "markdown",
   "metadata": {},
   "source": [
    "When developing a script in Python that will access an ArcGIS geoprocessing tool, the first thing that we must do is import arcpy."
   ]
  },
  {
   "cell_type": "code",
   "execution_count": 1,
   "metadata": {},
   "outputs": [],
   "source": [
    "import arcpy"
   ]
  },
  {
   "cell_type": "markdown",
   "metadata": {},
   "source": [
    "After importing arcpy, we can investigate it's properties such as the path and version."
   ]
  },
  {
   "cell_type": "code",
   "execution_count": 2,
   "metadata": {},
   "outputs": [
    {
     "name": "stdout",
     "output_type": "stream",
     "text": [
      "['C:\\\\Program Files\\\\ArcGIS\\\\Pro\\\\Resources\\\\ArcPy\\\\arcpy']\n"
     ]
    }
   ],
   "source": [
    "print(arcpy.__path__)"
   ]
  },
  {
   "cell_type": "code",
   "execution_count": 3,
   "metadata": {},
   "outputs": [
    {
     "data": {
      "text/plain": [
       "{'LicenseLevel': 'Advanced',\n",
       " 'InstallDir': 'c:\\\\program files\\\\arcgis\\\\pro\\\\',\n",
       " 'Installer': 'greg6750',\n",
       " 'ProductName': 'ArcGISPro',\n",
       " 'Version': '2.5.2',\n",
       " 'SourceDir': 'C:\\\\Users\\\\greg6750\\\\AppData\\\\Local\\\\Microsoft\\\\Windows\\\\INetCache\\\\ArcGISUpdate\\\\ArcGISPro\\\\esrisoftware.esri.com\\\\',\n",
       " 'InstallType': 'N/A',\n",
       " 'BuildNumber': '22081',\n",
       " 'InstallDate': '6/30/2020',\n",
       " 'InstallTime': '13:06:27',\n",
       " 'SPNumber': 'N/A',\n",
       " 'SPBuild': 'N/A'}"
      ]
     },
     "execution_count": 3,
     "metadata": {},
     "output_type": "execute_result"
    }
   ],
   "source": [
    "arcpy.GetInstallInfo()"
   ]
  },
  {
   "cell_type": "markdown",
   "metadata": {},
   "source": [
    "Often, when writing a script, the first this you do is set the geoprocessing environment default workspace.  This can be either a geodatabase of folder and can be done as follows:"
   ]
  },
  {
   "cell_type": "code",
   "execution_count": 4,
   "metadata": {},
   "outputs": [
    {
     "data": {
      "text/plain": [
       "['.ipynb_checkpoints',\n",
       " 'data',\n",
       " 'Excercise1.mxd',\n",
       " 'Exercise 1 - Geoprocessing and Python in ArcGIS.ipynb',\n",
       " 'Exercise_1_Geoprocessing_and_Python_in_ArcGIS.html',\n",
       " 'Exercise_2_Intro_to_Arcpy.html',\n",
       " 'Homework 2.ipynb',\n",
       " 'Homework_2.html',\n",
       " 'if_elif_else.py',\n",
       " 'images',\n",
       " 'Lecture_1_Geoprocessing_and_Python_Window.pptx',\n",
       " 'unit_2_lesson_2_arcpy_in_arcgis_notebooks.ipynb',\n",
       " 'unit_2_lesson_2_arcpy_in_arcgis_pro.ipynb',\n",
       " 'while_loop.py']"
      ]
     },
     "execution_count": 4,
     "metadata": {},
     "output_type": "execute_result"
    }
   ],
   "source": [
    "import os\n",
    "\n",
    "os.listdir('.')"
   ]
  },
  {
   "cell_type": "code",
   "execution_count": 7,
   "metadata": {},
   "outputs": [
    {
     "name": "stdout",
     "output_type": "stream",
     "text": [
      "C:/Users/greg6750/Documents/IPython Notebooks/Python_for_GIS_and_RS/Week_2/data\n"
     ]
    }
   ],
   "source": [
    "arcpy.env.workspace = \"C:/Users/greg6750/Documents/IPython Notebooks/Python_for_GIS_and_RS/Week_2/data\"\n",
    "print(arcpy.env.workspace)"
   ]
  },
  {
   "cell_type": "markdown",
   "metadata": {},
   "source": [
    "Sometimes, you may not want to import all of arcpy. You can set the _env_ variables without importing all of arcpy using a _from_-_import_ statment as follows:"
   ]
  },
  {
   "cell_type": "code",
   "execution_count": 9,
   "metadata": {},
   "outputs": [],
   "source": [
    "from arcpy import env"
   ]
  },
  {
   "cell_type": "markdown",
   "metadata": {},
   "source": [
    "Then, you could set the default workspace as follows:"
   ]
  },
  {
   "cell_type": "code",
   "execution_count": 10,
   "metadata": {},
   "outputs": [
    {
     "name": "stdout",
     "output_type": "stream",
     "text": [
      "C:/Users/greg6750/Documents/IPython Notebooks/Python_for_GIS_and_RS/Week_2/data\n"
     ]
    }
   ],
   "source": [
    "env.workspace =  \"C:/Users/greg6750/Documents/IPython Notebooks/Python_for_GIS_and_RS/Week_2/data\"\n",
    "print(env.workspace)"
   ]
  },
  {
   "cell_type": "markdown",
   "metadata": {},
   "source": [
    "Not to confuse you, but there is a third way to import the env variable, using _from_-_import_-_as_. Here is an example:"
   ]
  },
  {
   "cell_type": "code",
   "execution_count": 11,
   "metadata": {},
   "outputs": [],
   "source": [
    "from arcpy import env as myenv"
   ]
  },
  {
   "cell_type": "markdown",
   "metadata": {},
   "source": [
    "Using this syntax, we can set the workspace as follows:"
   ]
  },
  {
   "cell_type": "code",
   "execution_count": 12,
   "metadata": {},
   "outputs": [
    {
     "name": "stdout",
     "output_type": "stream",
     "text": [
      "C:/Users/greg6750/Documents/IPython Notebooks/Python_for_GIS_and_RS/Week_2/data\n"
     ]
    }
   ],
   "source": [
    "myenv.workspace = \"C:/Users/greg6750/Documents/IPython Notebooks/Python_for_GIS_and_RS/Week_2/data\"\n",
    "print(myenv.workspace)"
   ]
  },
  {
   "cell_type": "markdown",
   "metadata": {},
   "source": [
    "## Arcpy.mapping and Spatial Analyst"
   ]
  },
  {
   "cell_type": "markdown",
   "metadata": {},
   "source": [
    "Two modules that we will use later in this course are arcpy.mapping and spatial analyst. These modules allow users to carry out specialized functionality using ArcGIS. Arcpy.mapping is imported as follows:"
   ]
  },
  {
   "cell_type": "code",
   "execution_count": 13,
   "metadata": {},
   "outputs": [],
   "source": [
    "import arcpy.mp"
   ]
  },
  {
   "cell_type": "markdown",
   "metadata": {},
   "source": [
    "You will typically see spatial analyst imported as follows:"
   ]
  },
  {
   "cell_type": "code",
   "execution_count": 14,
   "metadata": {},
   "outputs": [],
   "source": [
    "from arcpy.sa import *"
   ]
  },
  {
   "cell_type": "markdown",
   "metadata": {},
   "source": [
    "This import statement uses the wildcard to import all of the functions from the spatial analyst module.  You will get a better understanding of this syntax and the spatial analyst module when we start working with raster/imagery data."
   ]
  },
  {
   "cell_type": "markdown",
   "metadata": {},
   "source": [
    "# Geoprocessing Tools"
   ]
  },
  {
   "cell_type": "markdown",
   "metadata": {},
   "source": [
    "## Clip"
   ]
  },
  {
   "cell_type": "markdown",
   "metadata": {},
   "source": [
    "The following excercises will show us how to work with Geoprocessing tools through Python. You saw some of this last week when we used the [Clip function](http://pro.arcgis.com/en/pro-app/tool-reference/analysis/clip.htm) in the Python Window. We will build on that here. First, let's write a short script that takes in two input feature classes and clips one to the other. Here, we will use the same sample data in the Week_1\\data folder that we used last week."
   ]
  },
  {
   "cell_type": "code",
   "execution_count": 15,
   "metadata": {},
   "outputs": [
    {
     "data": {
      "text/plain": [
       "<Result 'C:\\\\Users\\\\greg6750\\\\Documents\\\\IPython Notebooks\\\\Python_for_GIS_and_RS\\\\Week_2\\\\data\\\\Missouri.gdb\\\\Saint_Charles_roads'>"
      ]
     },
     "execution_count": 15,
     "metadata": {},
     "output_type": "execute_result"
    }
   ],
   "source": [
    "## Sample script to that uses the clip features GP tool.\n",
    "import arcpy\n",
    "\n",
    "input_fc = 'C:/Users/greg6750/Documents/IPython Notebooks/Python_for_GIS_and_RS/Week_2/data/Missouri.gdb/Roads'\n",
    "clip_fc = 'C:/Users/greg6750/Documents/IPython Notebooks/Python_for_GIS_and_RS/Week_2/data/Missouri.gdb/Saint_Charles'\n",
    "output_fc = 'C:/Users/greg6750/Documents/IPython Notebooks/Python_for_GIS_and_RS/Week_2/data/Missouri.gdb/Saint_Charles_roads'\n",
    "#Note: the Geodatabase needs to exist beforehand!\n",
    "\n",
    "arcpy.Clip_analysis(input_fc, clip_fc, output_fc)"
   ]
  },
  {
   "cell_type": "markdown",
   "metadata": {},
   "source": [
    "### Check to see if it is in the GDB"
   ]
  },
  {
   "cell_type": "code",
   "execution_count": 16,
   "metadata": {},
   "outputs": [
    {
     "name": "stdout",
     "output_type": "stream",
     "text": [
      "C:/Users/greg6750/Documents/IPython Notebooks/Python_for_GIS_and_RS/Week_2/data/Missouri.gdb\n"
     ]
    }
   ],
   "source": [
    "env.workspace =  \"C:/Users/greg6750/Documents/IPython Notebooks/Python_for_GIS_and_RS/Week_2/data/Missouri.gdb\"\n",
    "print(env.workspace)"
   ]
  },
  {
   "cell_type": "code",
   "execution_count": 17,
   "metadata": {},
   "outputs": [
    {
     "data": {
      "text/plain": [
       "['County', 'Saint_Charles', 'Roads', 'Saint_Charles_roads']"
      ]
     },
     "execution_count": 17,
     "metadata": {},
     "output_type": "execute_result"
    }
   ],
   "source": [
    "arcpy.ListFeatureClasses()"
   ]
  },
  {
   "cell_type": "markdown",
   "metadata": {},
   "source": [
    "### Let's view this data on a map"
   ]
  },
  {
   "cell_type": "markdown",
   "metadata": {},
   "source": [
    "Go to ArcGIS Pro and add the **Saint_Charles_roads** to a map.\n",
    "![](roads_in_pro.png)"
   ]
  },
  {
   "cell_type": "markdown",
   "metadata": {},
   "source": [
    "### Delete Roads"
   ]
  },
  {
   "cell_type": "code",
   "execution_count": 19,
   "metadata": {},
   "outputs": [
    {
     "data": {
      "text/plain": [
       "<Result 'true'>"
      ]
     },
     "execution_count": 19,
     "metadata": {},
     "output_type": "execute_result"
    }
   ],
   "source": [
    "arcpy.Delete_management('Saint_Charles_roads')"
   ]
  },
  {
   "cell_type": "markdown",
   "metadata": {},
   "source": [
    "## Buffer the Features"
   ]
  },
  {
   "cell_type": "markdown",
   "metadata": {},
   "source": [
    "Another common geoprocessing task if creating a [buffer](https://pro.arcgis.com/en/pro-app/tool-reference/analysis/buffer.htm). Let's show how that's done with Python"
   ]
  },
  {
   "cell_type": "code",
   "execution_count": 20,
   "metadata": {},
   "outputs": [
    {
     "data": {
      "text/plain": [
       "<Result 'C:/Users/greg6750/Documents/IPython Notebooks/Python_for_GIS_and_RS/Week_2/data/Missouri.gdb\\\\Saint_Charles_buffer'>"
      ]
     },
     "execution_count": 20,
     "metadata": {},
     "output_type": "execute_result"
    }
   ],
   "source": [
    "## Sample script to that uses the buffer GP tool.\n",
    "input_fc = 'Saint_Charles'\n",
    "output_fc = 'Saint_Charles_buffer'\n",
    "#Note: the Geodatabase needs to exist beforehand!\n",
    "\n",
    "arcpy.Buffer_analysis(input_fc, output_fc, \"10 kilometers\", \"FULL\", \"ROUND\")"
   ]
  },
  {
   "cell_type": "markdown",
   "metadata": {},
   "source": [
    "## Question 2: Did buffer work? Go to ArcMap and check. If it did not work, what was the error message you recieved?"
   ]
  },
  {
   "cell_type": "markdown",
   "metadata": {},
   "source": [
    "![](buffers_in_pro.png)"
   ]
  },
  {
   "cell_type": "markdown",
   "metadata": {},
   "source": [
    "### Delete Buffer"
   ]
  },
  {
   "cell_type": "code",
   "execution_count": 21,
   "metadata": {},
   "outputs": [],
   "source": [
    "#arcpy.Delete_management('Saint_Charles_buffer')"
   ]
  },
  {
   "cell_type": "markdown",
   "metadata": {},
   "source": [
    "## Count Features with GetCount_management()"
   ]
  },
  {
   "cell_type": "markdown",
   "metadata": {},
   "source": [
    "Lastly, we'll revisit the [GetCount_management() tool](https://pro.arcgis.com/en/pro-app/tool-reference/data-management/get-count.htm). Let's write a script that Gets the count of all of the features in out Missouri.gdb database. Here is how we do that."
   ]
  },
  {
   "cell_type": "code",
   "execution_count": 22,
   "metadata": {},
   "outputs": [
    {
     "name": "stdout",
     "output_type": "stream",
     "text": [
      "County has 115 features\n",
      "Saint_Charles has 1 features\n",
      "Roads has 82745 features\n",
      "Saint_Charles_buffer has 1 features\n"
     ]
    }
   ],
   "source": [
    "## Sample script to that uses the buffer GP tool.\n",
    "import arcpy\n",
    "\n",
    "arcpy.env.workspace = 'C:/Users/greg6750/Documents/IPython Notebooks/Python_for_GIS_and_RS/Week_2/data/Missouri.gdb'\n",
    "\n",
    "feature_classes = arcpy.ListFeatureClasses()\n",
    "\n",
    "for fc in feature_classes:\n",
    "    fc_count = arcpy.GetCount_management(fc)\n",
    "    print(fc + ' has ' + str(fc_count) + ' features')"
   ]
  },
  {
   "cell_type": "markdown",
   "metadata": {},
   "source": [
    "## Question 3: How many features does each featur class in the Missouri.gdb contain?"
   ]
  },
  {
   "cell_type": "markdown",
   "metadata": {},
   "source": [
    "We will be using these GP tools a lot, so make sure you are comfortable using them and using the Help documentation in order to understand how they are used."
   ]
  },
  {
   "cell_type": "markdown",
   "metadata": {},
   "source": [
    "## Functions"
   ]
  },
  {
   "cell_type": "markdown",
   "metadata": {},
   "source": [
    "Arcpy functions generally fall into the folloing categories:\n",
    "- Cursors\n",
    "- Descrobe objects\n",
    "- Environment variables and settings\n",
    "- Fields\n",
    "- Geodatabase administration\n",
    "- Getting a setting parameters\n",
    "- Licensing\n",
    "- Installation info\n",
    "- Logs, messages, and dialog boxes\n",
    "- Rasters\n",
    "- Geoprocessing tools and toolboxes\n",
    "\n",
    "Here is a complete list of all [arcpy functions](http://pro.arcgis.com/en/pro-app/arcpy/functions/alphabetical-list-of-arcpy-functions.htm).  "
   ]
  },
  {
   "cell_type": "markdown",
   "metadata": {},
   "source": [
    "Let's look at the [Exists function](https://pro.arcgis.com/en/pro-app/arcpy/functions/exists.htm)."
   ]
  },
  {
   "cell_type": "code",
   "execution_count": 23,
   "metadata": {},
   "outputs": [
    {
     "data": {
      "text/plain": [
       "False"
      ]
     },
     "execution_count": 23,
     "metadata": {},
     "output_type": "execute_result"
    }
   ],
   "source": [
    "import arcpy\n",
    "arcpy.Exists(\"Saint_Charles_roads\")"
   ]
  },
  {
   "cell_type": "code",
   "execution_count": 27,
   "metadata": {},
   "outputs": [
    {
     "data": {
      "text/plain": [
       "True"
      ]
     },
     "execution_count": 27,
     "metadata": {},
     "output_type": "execute_result"
    }
   ],
   "source": [
    "import arcpy\n",
    "arcpy.Exists(\"Saint_Charles_buffer\")"
   ]
  },
  {
   "cell_type": "code",
   "execution_count": 24,
   "metadata": {},
   "outputs": [
    {
     "data": {
      "text/plain": [
       "False"
      ]
     },
     "execution_count": 24,
     "metadata": {},
     "output_type": "execute_result"
    }
   ],
   "source": [
    "arcpy.Exists(\"Missouri\")"
   ]
  },
  {
   "cell_type": "markdown",
   "metadata": {},
   "source": [
    "Next week, in addition to writing our fist scripts, I hope to cover Describe objects."
   ]
  },
  {
   "cell_type": "markdown",
   "metadata": {},
   "source": [
    "## Classes"
   ]
  },
  {
   "cell_type": "markdown",
   "metadata": {},
   "source": [
    "Arcpy classes are generally shortcuts for tool parameters. For example, getting and setting spatial reference information or setting the default workspace using the environment variable like in the examples above.  Here, we'll show how to use the arcpy SpatialReference class. For a more detailed discussion of classes, see chapter 5.8 of Zandbergen or see the [Arcpy help](http://pro.arcgis.com/en/pro-app/arcpy/classes/spatialreference.htm)."
   ]
  },
  {
   "cell_type": "code",
   "execution_count": 28,
   "metadata": {},
   "outputs": [],
   "source": [
    "sr = arcpy.SpatialReference(\"Hawaii Albers Equal Area Conic\")"
   ]
  },
  {
   "cell_type": "code",
   "execution_count": 29,
   "metadata": {},
   "outputs": [
    {
     "name": "stdout",
     "output_type": "stream",
     "text": [
      "Hawaii_Albers_Equal_Area_Conic\n"
     ]
    }
   ],
   "source": [
    "print(sr.name)"
   ]
  },
  {
   "cell_type": "markdown",
   "metadata": {},
   "source": [
    "Let's look at some of the propoerties of the spatial reference object (_sr_)."
   ]
  },
  {
   "cell_type": "code",
   "execution_count": 30,
   "metadata": {},
   "outputs": [
    {
     "data": {
      "text/plain": [
       "1.0"
      ]
     },
     "execution_count": 30,
     "metadata": {},
     "output_type": "execute_result"
    }
   ],
   "source": [
    "sr.metersPerUnit"
   ]
  },
  {
   "cell_type": "code",
   "execution_count": 31,
   "metadata": {},
   "outputs": [
    {
     "data": {
      "text/plain": [
       "0.001"
      ]
     },
     "execution_count": 31,
     "metadata": {},
     "output_type": "execute_result"
    }
   ],
   "source": [
    "sr.XYTolerance"
   ]
  },
  {
   "cell_type": "code",
   "execution_count": 32,
   "metadata": {},
   "outputs": [
    {
     "data": {
      "text/plain": [
       "''"
      ]
     },
     "execution_count": 32,
     "metadata": {},
     "output_type": "execute_result"
    }
   ],
   "source": [
    "sr.remarks #what are remarks?"
   ]
  },
  {
   "cell_type": "markdown",
   "metadata": {},
   "source": [
    "For a complete list of arcpy classes and a description of each, go [here](http://pro.arcgis.com/en/pro-app/arcpy/classes/alphabetical-list-of-arcpy-classes.htm)."
   ]
  },
  {
   "cell_type": "markdown",
   "metadata": {},
   "source": [
    "## Messages"
   ]
  },
  {
   "cell_type": "markdown",
   "metadata": {},
   "source": [
    "I'm not going to say too much about [_Messages_](http://pro.arcgis.com/en/pro-app/arcpy/functions/adderror.htm) in arcpy, other than, in my experience, they work as print statements and debug statements.  When writing a tool, messages work as print statements. So if you plan on creating a GP script/tool, rather than use:"
   ]
  },
  {
   "cell_type": "code",
   "execution_count": 33,
   "metadata": {},
   "outputs": [
    {
     "name": "stdout",
     "output_type": "stream",
     "text": [
      "Clipping...\n"
     ]
    }
   ],
   "source": [
    "print(\"Clipping...\")"
   ]
  },
  {
   "cell_type": "markdown",
   "metadata": {},
   "source": [
    "use:"
   ]
  },
  {
   "cell_type": "code",
   "execution_count": 34,
   "metadata": {},
   "outputs": [],
   "source": [
    "arcpy.AddMessage(\"Clipping...\")"
   ]
  },
  {
   "cell_type": "markdown",
   "metadata": {},
   "source": [
    "To see an example, let's look at the Arcpy help for [AddMessage](http://pro.arcgis.com/en/pro-app/arcpy/functions/addmessage.htm)"
   ]
  },
  {
   "cell_type": "markdown",
   "metadata": {},
   "source": [
    "## Licensing and Checking Out Extensions"
   ]
  },
  {
   "cell_type": "markdown",
   "metadata": {
    "collapsed": true
   },
   "source": [
    "At times, you will find that you need to use a specific extension from ArcGIS in a Python script. You may find that a script or tool fails becuase it can not check out a specific license.  In those situations, you can use arcpy to check out the license."
   ]
  },
  {
   "cell_type": "code",
   "execution_count": 35,
   "metadata": {},
   "outputs": [
    {
     "name": "stdout",
     "output_type": "stream",
     "text": [
      "3D Analyst is Available\n",
      "3D Analyst has been checked out\n"
     ]
    }
   ],
   "source": [
    "import arcpy\n",
    "if arcpy.CheckExtension(\"3D\") == \"Available\":\n",
    "    print('3D Analyst is Available')\n",
    "    arcpy.CheckOutExtension('3D')\n",
    "    print('3D Analyst has been checked out')"
   ]
  },
  {
   "cell_type": "markdown",
   "metadata": {},
   "source": [
    "For more information on licensing and extensions in ArcGIS, go [here](http://desktop.arcgis.com/en/arcmap/latest/analyze/python/access-to-licensing-and-extensions.htm)."
   ]
  },
  {
   "cell_type": "markdown",
   "metadata": {},
   "source": [
    "To see a list of extensions and how to check them out with arcpy, go [here](http://desktop.arcgis.com/en/arcmap/latest/analyze/arcpy-functions/checkoutextension.htm)."
   ]
  },
  {
   "cell_type": "markdown",
   "metadata": {},
   "source": [
    "## Help"
   ]
  },
  {
   "cell_type": "markdown",
   "metadata": {},
   "source": [
    "Never be afraid to read the help documentation! Learning how to code can be challanging and that is why the help exists. Here are a few links and appraoches that you should use when seeking help.\n",
    " \n",
    " - [ArcGIS/ArcPy Help](http://desktop.arcgis.com/en/arcmap/10.3/analyze/arcpy/what-is-arcpy-.htm): ArcGIS has Python  documentation for every tool, function, class, etc. Learn how to use their examples.\n",
    " - Google: Don't be afraid to ask google! It can save you time and give you the code snippets you are looking for.\n",
    " - [Stack Overflow](http://stackoverflow.com/): Like google, but for coding problems.\n"
   ]
  }
 ],
 "metadata": {
  "anaconda-cloud": {},
  "kernelspec": {
   "display_name": "Python 3",
   "language": "python",
   "name": "python3"
  },
  "language_info": {
   "codemirror_mode": {
    "name": "ipython",
    "version": 3
   },
   "file_extension": ".py",
   "mimetype": "text/x-python",
   "name": "python",
   "nbconvert_exporter": "python",
   "pygments_lexer": "ipython3",
   "version": "3.6.9"
  }
 },
 "nbformat": 4,
 "nbformat_minor": 1
}
