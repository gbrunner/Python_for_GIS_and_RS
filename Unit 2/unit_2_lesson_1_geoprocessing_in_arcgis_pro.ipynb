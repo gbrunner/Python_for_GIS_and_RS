{
 "cells": [
  {
   "cell_type": "markdown",
   "metadata": {},
   "source": [
    "# Introduction to Python in ArcGIS Pro"
   ]
  },
  {
   "cell_type": "markdown",
   "metadata": {},
   "source": [
    "## The Python Window in ArcGIS Pro"
   ]
  },
  {
   "cell_type": "markdown",
   "metadata": {},
   "source": [
    "Our introduction to Python will be through using the Python Window in ArcGIS Pro. The Python Window was introduced at ArcGIS 10.0 and replaced what was known as the command line window in ArcGIS 9."
   ]
  },
  {
   "cell_type": "markdown",
   "metadata": {},
   "source": [
    "1. Open ArcGIS Pro.\n",
    "2. Create a new Map project.\n",
    "2. Select the Analysis tab at the top of ArcGIS Pro. \n",
    "3. Select _Python_ to open the Python Window. ![](https://raw.githubusercontent.com/gbrunner/intro-prog-for-gis-rs/master/images/python_window_in_pro.png) \n",
    "4. In the Python Window, type the following:"
   ]
  },
  {
   "cell_type": "code",
   "execution_count": 1,
   "metadata": {},
   "outputs": [
    {
     "name": "stdout",
     "output_type": "stream",
     "text": [
      "Hello World!\n"
     ]
    }
   ],
   "source": [
    "print(\"Hello World!\")"
   ]
  },
  {
   "cell_type": "markdown",
   "metadata": {},
   "source": [
    "This is what you should see. ![](https://raw.githubusercontent.com/gbrunner/intro-prog-for-gis-rs/master/images/hello_world.png)"
   ]
  },
  {
   "cell_type": "markdown",
   "metadata": {},
   "source": [
    "Congratulations! This is your first line fo Python code!"
   ]
  },
  {
   "cell_type": "markdown",
   "metadata": {},
   "source": [
    "## Using Python for Geoprocessing"
   ]
  },
  {
   "cell_type": "markdown",
   "metadata": {},
   "source": [
    "A large part of what you'll be learning in this class is how to use Python to solve spatial problems. This will involve stringing together common geoprocessing tools from ArcGIS to perform larger tasks. You may have done this before in [Model Builder](http://pro.arcgis.com/en/pro-app/help/analysis/geoprocessing/modelbuilder/what-is-modelbuilder-.htm). Through this class, I hope you find it beneficial to start creating these types of tools with Python rather than Model Builder.\n",
    "\n",
    "To introduce you to some of the processing and analysis capabilities exposed by ArcGIS through Python, let's walk through a few examples of what you can do.  These are just introductory examples. We will dive deeper into these tools throughout the class.\n",
    "\n",
    "On blackboard, you can find this week's materials. I have also posted them on ArcGIS Online. Inside the course materials for Week 1, you should see a data folder containing a [Pro Project](https://slustl.maps.arcgis.com/home/item.html?id=3179070f893247d6bc7be395ee9ff9c8). Open the ArcGIS Pro project named unit_2_lesson_1.\n",
    "\n",
    "When you open it, you should see three layers:\n",
    "- Roads\n",
    "- Saint_Charles\n",
    "- County\n",
    "\n",
    "If those layers don't show up or the paths are broken, just remove the layers from ArcMap and add them again directly from the Missouri.gdb in the Week_1\\data folder.\n",
    "\n",
    "The first thing we're going to do is use Python to determine how many counties are in Missouri. This can be done by entering the following in the Python Window:"
   ]
  },
  {
   "cell_type": "code",
   "execution_count": null,
   "metadata": {},
   "outputs": [],
   "source": [
    "arcpy.GetCount_management(\"County\")"
   ]
  },
  {
   "cell_type": "markdown",
   "metadata": {},
   "source": [
    "This should look like:![](https://raw.githubusercontent.com/gbrunner/intro-prog-for-gis-rs/master/images/get_count.png)"
   ]
  },
  {
   "cell_type": "markdown",
   "metadata": {},
   "source": [
    "## Question 1: What is the result of the GetCount operation?"
   ]
  },
  {
   "cell_type": "markdown",
   "metadata": {},
   "source": [
    "## Question 2: This value is not the number of counties in Missouri. The number of counties in Missouri is 114.  Can you explain the discrepancy between the count and the true number of counties in Missouri?"
   ]
  },
  {
   "cell_type": "markdown",
   "metadata": {},
   "source": [
    "## Geoprocessing with Python: Clip"
   ]
  },
  {
   "cell_type": "markdown",
   "metadata": {},
   "source": [
    "ArcGIS exposes all of its geoprocessing (GP) tools as Python functions.  For example, let's take a look at ArcToolbox. In the Analysis toolbox, there is a Clip tool. Open that up.![](https://raw.githubusercontent.com/gbrunner/intro-prog-for-gis-rs/master/images/clip_analysis_tool.png)"
   ]
  },
  {
   "cell_type": "markdown",
   "metadata": {},
   "source": [
    "The Clip tool takes 3 required inputs (Input Features, Clip Features, Output Feature Class) and 1 optional input (XY Tolerance). This tool is exposed through Python and can be accessed through the Python Window. In the Python Window, type:"
   ]
  },
  {
   "cell_type": "code",
   "execution_count": null,
   "metadata": {
    "collapsed": true
   },
   "outputs": [],
   "source": [
    "arcpy.Clip_analysis(\"Roads\", \"Saint_Charles\", \"Saint_Charles_Roads\")"
   ]
  },
  {
   "cell_type": "markdown",
   "metadata": {},
   "source": [
    "![](https://raw.githubusercontent.com/gbrunner/intro-prog-for-gis-rs/master/images/clip_analysis_python_window.png)\n",
    "\n",
    "Here we're seeing \"Roads\" as the Input Features, \"Saint_Charles\" as the Clip Features, and \"Saint_Charles_Roads\" as the Output Features. Run the code."
   ]
  },
  {
   "cell_type": "markdown",
   "metadata": {},
   "source": [
    "## Question 3: What was the result?"
   ]
  },
  {
   "cell_type": "markdown",
   "metadata": {},
   "source": [
    "Notice as you are typing in the Python window, on the right hand side, the help shows up and the parameter that you are currently entering is highlighted in yellow. This capability is very helpful and can generally be found in any good Python IDE. ![](https://raw.githubusercontent.com/gbrunner/intro-prog-for-gis-rs/master/images/clip_analysis_python_window_help.png)"
   ]
  },
  {
   "cell_type": "markdown",
   "metadata": {},
   "source": [
    "## Describing Data with Python"
   ]
  },
  {
   "cell_type": "markdown",
   "metadata": {},
   "source": [
    "Python can be used to access metadata belonging to a feature class. We will learn more about this is a few weeks. While we have the Pro Project open, let's learn a little bit about the data in the Table of Contents. In the Python Window, execute the following code:"
   ]
  },
  {
   "cell_type": "code",
   "execution_count": null,
   "metadata": {
    "collapsed": true
   },
   "outputs": [],
   "source": [
    "desc = arcpy.Describe(\"County\")\n",
    "desc.spatialReference.name\n",
    "desc.path"
   ]
  },
  {
   "cell_type": "markdown",
   "metadata": {},
   "source": [
    "That willl look like this: \n",
    "\n",
    "![](https://raw.githubusercontent.com/gbrunner/intro-prog-for-gis-rs/master/images/describe.png)"
   ]
  },
  {
   "cell_type": "markdown",
   "metadata": {},
   "source": [
    "## Question 4: What is the spatial reference of the County layer?"
   ]
  },
  {
   "cell_type": "markdown",
   "metadata": {},
   "source": [
    "## Listing Data with Python"
   ]
  },
  {
   "cell_type": "markdown",
   "metadata": {},
   "source": [
    "For our last example, we'll show how you can use Python to get a list of datasets in a geodatabase. using the same desc.path variable that we just created. Continuing in the same Python Window, execute the following:"
   ]
  },
  {
   "cell_type": "code",
   "execution_count": null,
   "metadata": {
    "collapsed": true
   },
   "outputs": [],
   "source": [
    "arcpy.env.workspace = desc.path\n",
    "fcs = arcpy.ListFeatureClasses()\n",
    "print(fcs)"
   ]
  },
  {
   "cell_type": "markdown",
   "metadata": {},
   "source": [
    "That will look like this: ![](https://raw.githubusercontent.com/gbrunner/intro-prog-for-gis-rs/master/images/list_feature_classes.png)"
   ]
  },
  {
   "cell_type": "markdown",
   "metadata": {},
   "source": [
    "## Question 5: What is the result of print(fcs)?"
   ]
  },
  {
   "cell_type": "markdown",
   "metadata": {},
   "source": [
    "That concludes Excercise 1. You can close ArcMap. For the next Excercise, we will be writing our Python code in a stand alone Python interpreter such as IDLE or PyScripter."
   ]
  },
  {
   "cell_type": "code",
   "execution_count": null,
   "metadata": {
    "collapsed": true
   },
   "outputs": [],
   "source": []
  }
 ],
 "metadata": {
  "anaconda-cloud": {},
  "kernelspec": {
   "display_name": "Python 3",
   "language": "python",
   "name": "python3"
  },
  "language_info": {
   "codemirror_mode": {
    "name": "ipython",
    "version": 3
   },
   "file_extension": ".py",
   "mimetype": "text/x-python",
   "name": "python",
   "nbconvert_exporter": "python",
   "pygments_lexer": "ipython3",
   "version": "3.6.9"
  }
 },
 "nbformat": 4,
 "nbformat_minor": 1
}
