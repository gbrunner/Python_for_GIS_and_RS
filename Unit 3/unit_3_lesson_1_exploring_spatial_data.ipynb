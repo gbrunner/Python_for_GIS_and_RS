{
 "cells": [
  {
   "cell_type": "markdown",
   "metadata": {
    "nbpresent": {
     "id": "26555edf-aae8-40c3-a901-715846f7ab3f"
    },
    "slideshow": {
     "slide_type": "slide"
    }
   },
   "source": [
    "# Exploring Spatial Data"
   ]
  },
  {
   "cell_type": "markdown",
   "metadata": {},
   "source": [
    "The following exercises will introduce you to the various methods of exploring spatial data. These methods include checking for the existence of data, listing datasets, listing characteristics of datasets, and describing data. Let's start with checking for the existence of data."
   ]
  },
  {
   "cell_type": "markdown",
   "metadata": {
    "slideshow": {
     "slide_type": "slide"
    }
   },
   "source": [
    "## Checking Whether Data Exists"
   ]
  },
  {
   "cell_type": "markdown",
   "metadata": {},
   "source": [
    "There are going to be a lot of instances where you will want to check whether data exists. In particular, if you are creating a new dataset, you will want to check whether it exists first because if you try to create a dataset that already exits, Python will likely throw an error.\n",
    "\n",
    "The [Exists](https://pro.arcgis.com/en/pro-app/arcpy/functions/exists.htm) function can be used to check whether a file, a geodatabase, table, layer, workspace, shapefile, file, or a feature class exits.  The function takes the path to the data and returns a boolean value (True of False) indicating whether the data exits.  Let's try it!"
   ]
  },
  {
   "cell_type": "markdown",
   "metadata": {},
   "source": [
    "First, import arcpy."
   ]
  },
  {
   "cell_type": "code",
   "execution_count": 1,
   "metadata": {},
   "outputs": [],
   "source": [
    "import arcpy"
   ]
  },
  {
   "cell_type": "markdown",
   "metadata": {},
   "source": [
    "In the Week_4\\data folder, there is a folder called dems. Inside that folder, there should be several TIF files that make up a global digital elevation model. Check to see if af_dem_30s.tif exists as follows:"
   ]
  },
  {
   "cell_type": "code",
   "execution_count": 2,
   "metadata": {},
   "outputs": [
    {
     "name": "stdout",
     "output_type": "stream",
     "text": [
      "True\n"
     ]
    }
   ],
   "source": [
    "raster_exitsts = arcpy.Exists(r'C:\\Users\\greg6750\\Documents\\IPython Notebooks\\intro-prog-for-gis-rs\\Week 3\\dems\\af_dem_30s.tif')\n",
    "print(raster_exitsts)"
   ]
  },
  {
   "cell_type": "markdown",
   "metadata": {},
   "source": [
    "In the Week_4\\data folder there is a Features.gdb geodatabase. Let's check to see if that exists."
   ]
  },
  {
   "cell_type": "code",
   "execution_count": 3,
   "metadata": {},
   "outputs": [
    {
     "name": "stdout",
     "output_type": "stream",
     "text": [
      "True\n"
     ]
    }
   ],
   "source": [
    "gdb_exists = arcpy.Exists(r'C:\\Users\\greg6750\\Documents\\IPython Notebooks\\intro-prog-for-gis-rs\\Week 4\\data\\data\\Features.gdb')\n",
    "print(gdb_exists)"
   ]
  },
  {
   "cell_type": "markdown",
   "metadata": {},
   "source": [
    "## Question 1: Does Features.gdb exist?"
   ]
  },
  {
   "cell_type": "markdown",
   "metadata": {},
   "source": [
    "Let's look inside that geodatabase for roads feature class."
   ]
  },
  {
   "cell_type": "code",
   "execution_count": 4,
   "metadata": {},
   "outputs": [
    {
     "name": "stdout",
     "output_type": "stream",
     "text": [
      "False\n"
     ]
    }
   ],
   "source": [
    "roads_exists = arcpy.Exists(r'C:\\Users\\greg6750\\Documents\\IPython Notebooks\\intro-prog-for-gis-rs\\Week 4\\data\\data\\Features.gdb\\roads')\n",
    "print(roads_exists)"
   ]
  },
  {
   "cell_type": "markdown",
   "metadata": {},
   "source": [
    "## Question 2: Is there a roads feature class in Features.gdb?"
   ]
  },
  {
   "cell_type": "markdown",
   "metadata": {},
   "source": [
    "## Question 3: In Week_4\\data there should also be a folder called _osm_ that contains Open Street Map data.  Can you check for a highway line feature class in OSM.gdb? Does that feature class exist?"
   ]
  },
  {
   "cell_type": "code",
   "execution_count": 5,
   "metadata": {},
   "outputs": [
    {
     "name": "stdout",
     "output_type": "stream",
     "text": [
      "True\n"
     ]
    }
   ],
   "source": [
    "roads_exists = arcpy.Exists(r'C:\\Users\\greg6750\\Documents\\IPython Notebooks\\intro-prog-for-gis-rs\\Week 4\\data\\data\\osm\\OSM.gdb\\highway_line')\n",
    "print(roads_exists)"
   ]
  },
  {
   "cell_type": "markdown",
   "metadata": {
    "slideshow": {
     "slide_type": "slide"
    }
   },
   "source": [
    "## [Describing Data](http://pro.arcgis.com/en/pro-app/arcpy/functions/describe.htm)"
   ]
  },
  {
   "cell_type": "markdown",
   "metadata": {},
   "source": [
    "We can use arcpy and Python to describe GIS data. What is a raster's projection? What type of shape (point, line, or polygon) does a feature have? What is the path to the data? These are all questions we can use Python to answer. In this section, we'll show how to use Python to answer some of these questions.\n",
    "\n",
    "Let's continue looking at the Open Street Map data.  We can start to describe an object with arcpy by calling arcpy.Describe and passing it the feature or file name.  Let's start by doing that for the highway_line feature class in OSM.gdb."
   ]
  },
  {
   "cell_type": "code",
   "execution_count": 6,
   "metadata": {},
   "outputs": [],
   "source": [
    "import arcpy\n",
    "road_fc = r'C:\\Users\\greg6750\\Documents\\IPython Notebooks\\Python_for_GIS_and_RS\\Week_4\\data\\osm\\OSM.gdb\\highway_line'\n",
    "desc_features = arcpy.Describe(road_fc)"
   ]
  },
  {
   "cell_type": "markdown",
   "metadata": {},
   "source": [
    "## Question 4: Print out desc_features. Does the result make any sense to you?"
   ]
  },
  {
   "cell_type": "markdown",
   "metadata": {},
   "source": [
    "desc_features is a structure that maintains information like the feature class name, spatial reference, shape type, and much more. Let's show how you can access those parameters by creating a mini report. Run the following code."
   ]
  },
  {
   "cell_type": "code",
   "execution_count": 7,
   "metadata": {},
   "outputs": [
    {
     "name": "stdout",
     "output_type": "stream",
     "text": [
      "Feature Class Report\n",
      "Feature Class Name: highway_line\n",
      "Feature Class Catalog Path: C:\\Users\\greg6750\\Documents\\IPython Notebooks\\Python_for_GIS_and_RS\\Week_4\\data\\osm\\OSM.gdb\\highway_line\n",
      "Feature Class Shape: Polyline\n"
     ]
    }
   ],
   "source": [
    "print('Feature Class Report')\n",
    "print('Feature Class Name: ' + desc_features.name)\n",
    "print('Feature Class Catalog Path: ' + desc_features.catalogPath)\n",
    "print('Feature Class Shape: ' + desc_features.shapeType)"
   ]
  },
  {
   "cell_type": "markdown",
   "metadata": {},
   "source": [
    "## Question 5: What type of shape is highway_line? "
   ]
  },
  {
   "cell_type": "markdown",
   "metadata": {},
   "source": [
    "### [Spatial Reference](http://pro.arcgis.com/en/pro-app/arcpy/classes/spatialreference.htm)"
   ]
  },
  {
   "cell_type": "markdown",
   "metadata": {},
   "source": [
    "We can also access the spatial reference of the feature data. Here is how we get the spatial reference name of the highway_line feature class."
   ]
  },
  {
   "cell_type": "code",
   "execution_count": 8,
   "metadata": {},
   "outputs": [
    {
     "name": "stdout",
     "output_type": "stream",
     "text": [
      "GCS_WGS_1984\n"
     ]
    }
   ],
   "source": [
    "sr = desc_features.spatialReference\n",
    "print(sr.name)"
   ]
  },
  {
   "cell_type": "markdown",
   "metadata": {},
   "source": [
    "## Question 6: What is the spatial reference of highway_line?"
   ]
  },
  {
   "cell_type": "markdown",
   "metadata": {},
   "source": [
    "You could also  have called the spatial reference the following way:"
   ]
  },
  {
   "cell_type": "code",
   "execution_count": 9,
   "metadata": {},
   "outputs": [
    {
     "name": "stdout",
     "output_type": "stream",
     "text": [
      "GCS_WGS_1984\n"
     ]
    }
   ],
   "source": [
    "print(desc_features.spatialReference.name)"
   ]
  },
  {
   "cell_type": "markdown",
   "metadata": {},
   "source": [
    "## Listing Data"
   ]
  },
  {
   "cell_type": "markdown",
   "metadata": {},
   "source": [
    "### [Listing Workspaces](http://pro.arcgis.com/en/pro-app/arcpy/functions/listworkspaces.htm)"
   ]
  },
  {
   "cell_type": "markdown",
   "metadata": {},
   "source": [
    "We can use Python to find geodatabases within a folder. Here, let use arcy to list the geodatabases in the Week_4\\data\\osm folder."
   ]
  },
  {
   "cell_type": "code",
   "execution_count": 10,
   "metadata": {},
   "outputs": [
    {
     "name": "stdout",
     "output_type": "stream",
     "text": [
      "['C:\\\\Users\\\\greg6750\\\\Documents\\\\IPython Notebooks\\\\Python_for_GIS_and_RS\\\\Week_4\\\\data\\\\osm\\\\OSM.gdb']\n"
     ]
    }
   ],
   "source": [
    "osm_folder = r'C:\\Users\\greg6750\\Documents\\IPython Notebooks\\Python_for_GIS_and_RS\\Week_4\\data\\osm'\n",
    "arcpy.env.workspace = osm_folder\n",
    "osm_gdbs = arcpy.ListWorkspaces()\n",
    "print(osm_gdbs)"
   ]
  },
  {
   "cell_type": "markdown",
   "metadata": {},
   "source": [
    "There should only be OSM.gdb. As you should see, listing data is very easy!"
   ]
  },
  {
   "cell_type": "markdown",
   "metadata": {},
   "source": [
    "### [Listing Feature Data](http://pro.arcgis.com/en/pro-app/arcpy/functions/listfeatureclasses.htm)"
   ]
  },
  {
   "cell_type": "markdown",
   "metadata": {},
   "source": [
    "Understanding how to list features is essential. It will help you automate process that can be run over all mfeatures in a folder or geodatabase. Here, let's learn how to list features from a geodatabase. Run the following code "
   ]
  },
  {
   "cell_type": "code",
   "execution_count": 11,
   "metadata": {},
   "outputs": [
    {
     "name": "stdout",
     "output_type": "stream",
     "text": [
      "['aeroway_line', 'aeroway_point', 'aeroway_polygon_polygon', 'amenity_point', 'amenity_polygon_polygon', 'barrier_line', 'barrier_point', 'barrier_polygon_polygon', 'boundary_line', 'boundary_polygon_polygon', 'building_point', 'building_polygon_polygon', 'craft_polygon_polygon', 'highway_line', 'highway_point', 'highway_polygon_polygon', 'historic_point', 'landuse_line', 'landuse_point', 'landuse_polygon_polygon', 'leisure_point', 'leisure_polygon_polygon', 'man_made_line', 'man_made_point', 'man_made_polygon_polygon', 'natural_point', 'natural_polygon_polygon', 'office_point', 'place_line', 'place_point', 'place_polygon_polygon', 'power_line', 'power_point', 'power_polygon_polygon', 'railway_line', 'railway_point', 'railway_polygon_polygon', 'route_line', 'shop_point', 'shop_polygon_polygon', 'sport_point', 'sport_polygon_polygon', 'tourism_point', 'tourism_polygon_polygon', 'waterway_line', 'waterway_point', 'waterway_polygon_polygon']\n"
     ]
    }
   ],
   "source": [
    "osm = r'C:\\Users\\greg6750\\Documents\\IPython Notebooks\\Python_for_GIS_and_RS\\Week_4\\data\\osm\\OSM.gdb'\n",
    "arcpy.env.workspace = osm\n",
    "osm_fcs = arcpy.ListFeatureClasses()\n",
    "print(osm_fcs)"
   ]
  },
  {
   "cell_type": "markdown",
   "metadata": {},
   "source": [
    "## Question 7: How many feature classes are in OSM.gdb? Use the [_len_ method](https://docs.python.org/2/library/functions.html#len) to find out."
   ]
  },
  {
   "cell_type": "markdown",
   "metadata": {},
   "source": [
    "[Wildcards](https://docs.python.org/2/library/fnmatch.html) are a concept that is ubiquitous to programming. In Python, the asterisk(\\*) denotes a wildcard. You can use wildcards in many ways in Python. One way to use it in the _List_ methods. Here, we will use a wildcard to list only features starting with the word \"highway.\" Run the folliwng code."
   ]
  },
  {
   "cell_type": "code",
   "execution_count": 12,
   "metadata": {},
   "outputs": [
    {
     "name": "stdout",
     "output_type": "stream",
     "text": [
      "['highway_line', 'highway_point', 'highway_polygon_polygon']\n"
     ]
    }
   ],
   "source": [
    "osm = r'C:\\Users\\greg6750\\Documents\\IPython Notebooks\\Python_for_GIS_and_RS\\Week_4\\data\\osm\\OSM.gdb'\n",
    "arcpy.env.workspace = osm\n",
    "osm_fcs = arcpy.ListFeatureClasses(\"highway*\")\n",
    "print(osm_fcs)"
   ]
  },
  {
   "cell_type": "markdown",
   "metadata": {},
   "source": [
    "## Question 8: How many features in OSM.gdb start with the word highway? "
   ]
  },
  {
   "cell_type": "markdown",
   "metadata": {},
   "source": [
    "### [Listing Rasters](http://pro.arcgis.com/en/pro-app/arcpy/functions/listrasters.htm)"
   ]
  },
  {
   "cell_type": "markdown",
   "metadata": {},
   "source": [
    "When we start working more with imagery and remote sensing data in a few weeks we'll learn more about raster data. Here, let's see how we can use the ListRasters method to list all of the rasters in the Week_4\\data\\dems folder. Run the following code."
   ]
  },
  {
   "cell_type": "code",
   "execution_count": 13,
   "metadata": {},
   "outputs": [
    {
     "name": "stdout",
     "output_type": "stream",
     "text": [
      "['af_dem_30s.tif', 'as_dem_30s.tif', 'au_dem_30s.tif', 'ca_dem_30s.tif', 'eu_dem_30s.tif', 'na_dem_30s.tif', 'sa_dem_30s.tif']\n"
     ]
    }
   ],
   "source": [
    "dem_folder = r'C:\\Users\\greg6750\\Documents\\IPython Notebooks\\Python_for_GIS_and_RS\\Week_4\\data\\dems'\n",
    "arcpy.env.workspace = dem_folder\n",
    "dems = arcpy.ListRasters()\n",
    "print(dems)"
   ]
  },
  {
   "cell_type": "markdown",
   "metadata": {},
   "source": [
    "These rasters have been downloaded from the [HydroSheds](http://hydrosheds.cr.usgs.gov/index.php) website. We will learn more about them and use them again in a few weeks.  Go to the HydroSheds website to learn more about these digital elevation models and how they are used. ![](http://hydrosheds.cr.usgs.gov/images/hydrosheds_amazon_large.jpg)."
   ]
  },
  {
   "cell_type": "markdown",
   "metadata": {},
   "source": [
    "### [Listing Fields in a Feature Class](http://pro.arcgis.com/en/pro-app/arcpy/functions/listfields.htm)"
   ]
  },
  {
   "cell_type": "markdown",
   "metadata": {},
   "source": [
    "The last example of listing data that we will cover is listing the fields in a feature class.  When we list fields, we can get the field name, type, length and other information. Here, let's look at the highway_line feature class. Run the following code>"
   ]
  },
  {
   "cell_type": "code",
   "execution_count": 14,
   "metadata": {},
   "outputs": [
    {
     "name": "stdout",
     "output_type": "stream",
     "text": [
      "osm_id, String, 20\n",
      "highway, String, 2048\n",
      "name, String, 2048\n",
      "name_en, String, 2048\n",
      "ref, String, 2048\n",
      "maxspeed, String, 2048\n",
      "oneway, String, 2048\n",
      "access, String, 2048\n",
      "bicycle, String, 2048\n",
      "foot, String, 2048\n",
      "horse, String, 2048\n",
      "motor_vehicle, String, 2048\n",
      "motorcar, String, 2048\n",
      "bridge, String, 2048\n",
      "cutting, String, 2048\n",
      "embankment, String, 2048\n",
      "tunnel, String, 2048\n",
      "service, String, 2048\n",
      "toll, String, 2048\n",
      "surface, String, 2048\n",
      "width, String, 2048\n",
      "construction, String, 2048\n",
      "layer, String, 2048\n",
      "tracktype, String, 2048\n",
      "junction, String, 2048\n",
      "disused, String, 2048\n",
      "z_order, Integer, 4\n",
      "OBJECTID, OID, 4\n",
      "SHAPE, Geometry, 0\n",
      "There are 29 fields in the feature class\n"
     ]
    }
   ],
   "source": [
    "highway_lines = r'C:\\Users\\greg6750\\Documents\\IPython Notebooks\\Python_for_GIS_and_RS\\Week_4\\data\\osm\\OSM.gdb\\highway_line'\n",
    "fields = arcpy.ListFields(highway_lines)\n",
    "for field in fields:\n",
    "    print(field.name + \", \" + field.type + \", \" + str(field.length))\n",
    "    \n",
    "print(\"There are \" + str(len(fields)) + \" fields in the feature class\")"
   ]
  },
  {
   "cell_type": "markdown",
   "metadata": {},
   "source": [
    "## Question 9: How many fields are there in the highway_line feature class?"
   ]
  },
  {
   "cell_type": "markdown",
   "metadata": {},
   "source": [
    "### Listing Other GIS Data"
   ]
  },
  {
   "cell_type": "markdown",
   "metadata": {},
   "source": [
    "In additonal to the lists that we have covered, arcpy supports listing [datasets](http://pro.arcgis.com/en/pro-app/arcpy/functions/listdatasets.htm), [files](http://pro.arcgis.com/en/pro-app/arcpy/functions/listfiles.htm), [tables](http://pro.arcgis.com/en/pro-app/arcpy/functions/listtables.htm), [workspace](http://pro.arcgis.com/en/pro-app/arcpy/functions/listworkspaces.htm), [indexes](http://pro.arcgis.com/en/pro-app/arcpy/functions/listindexes.htm), and [versions](http://pro.arcgis.com/en/pro-app/arcpy/functions/listversions.htm).  For a complete list, go to the following webpage:"
   ]
  },
  {
   "cell_type": "code",
   "execution_count": 15,
   "metadata": {},
   "outputs": [
    {
     "data": {
      "text/html": [
       "\n",
       "        <iframe\n",
       "            width=\"100%\"\n",
       "            height=\"500\"\n",
       "            src=\"https://pro.arcgis.com/en/pro-app/arcpy/get-started/listing-data.htm\"\n",
       "            frameborder=\"0\"\n",
       "            allowfullscreen\n",
       "        ></iframe>\n",
       "        "
      ],
      "text/plain": [
       "<IPython.lib.display.IFrame at 0x1a0b9ec1208>"
      ]
     },
     "execution_count": 15,
     "metadata": {},
     "output_type": "execute_result"
    }
   ],
   "source": [
    "from IPython.display import IFrame\n",
    "IFrame(\"https://pro.arcgis.com/en/pro-app/arcpy/get-started/listing-data.htm\", '100%', 500)"
   ]
  },
  {
   "cell_type": "markdown",
   "metadata": {},
   "source": [
    "I recommend taking a look at some of these functions on your own time."
   ]
  },
  {
   "cell_type": "markdown",
   "metadata": {},
   "source": [
    "## Using Lists - Putting This All Together"
   ]
  },
  {
   "cell_type": "markdown",
   "metadata": {
    "collapsed": true
   },
   "source": [
    "Let's take a look at an example of how listing data and describing data come together. Let's write a script that looks at all of the features in OSM.gdb and reports how many features there are in each feature class."
   ]
  },
  {
   "cell_type": "code",
   "execution_count": 16,
   "metadata": {},
   "outputs": [
    {
     "name": "stdout",
     "output_type": "stream",
     "text": [
      "aeroway_line has 9 Polyline's in it.\n",
      "aeroway_point has 6 Point's in it.\n",
      "aeroway_polygon_polygon has 4 Polygon's in it.\n",
      "amenity_point has 240 Point's in it.\n",
      "amenity_polygon_polygon has 202 Polygon's in it.\n",
      "barrier_line has 16 Polyline's in it.\n",
      "barrier_point has 5 Point's in it.\n",
      "barrier_polygon_polygon has 1 Polygon's in it.\n",
      "boundary_line has 57 Polyline's in it.\n",
      "boundary_polygon_polygon has 23 Polygon's in it.\n",
      "building_point has 4 Point's in it.\n",
      "building_polygon_polygon has 671 Polygon's in it.\n",
      "craft_polygon_polygon has 1 Polygon's in it.\n",
      "highway_line has 7879 Polyline's in it.\n",
      "highway_point has 363 Point's in it.\n",
      "highway_polygon_polygon has 2 Polygon's in it.\n",
      "historic_point has 3 Point's in it.\n",
      "landuse_line has 2 Polyline's in it.\n",
      "landuse_point has 50 Point's in it.\n",
      "landuse_polygon_polygon has 419 Polygon's in it.\n",
      "leisure_point has 17 Point's in it.\n",
      "leisure_polygon_polygon has 128 Polygon's in it.\n",
      "man_made_line has 3 Polyline's in it.\n",
      "man_made_point has 35 Point's in it.\n",
      "man_made_polygon_polygon has 5 Polygon's in it.\n",
      "natural_point has 276 Point's in it.\n",
      "natural_polygon_polygon has 249 Polygon's in it.\n",
      "office_point has 1 Point's in it.\n",
      "place_line has 17 Polyline's in it.\n",
      "place_point has 90 Point's in it.\n",
      "place_polygon_polygon has 29 Polygon's in it.\n",
      "power_line has 39 Polyline's in it.\n",
      "power_point has 792 Point's in it.\n",
      "power_polygon_polygon has 14 Polygon's in it.\n",
      "railway_line has 198 Polyline's in it.\n",
      "railway_point has 141 Point's in it.\n",
      "railway_polygon_polygon has 1 Polygon's in it.\n",
      "route_line has 111 Polyline's in it.\n",
      "shop_point has 11 Point's in it.\n",
      "shop_polygon_polygon has 23 Polygon's in it.\n",
      "sport_point has 1 Point's in it.\n",
      "sport_polygon_polygon has 76 Polygon's in it.\n",
      "tourism_point has 8 Point's in it.\n",
      "tourism_polygon_polygon has 11 Polygon's in it.\n",
      "waterway_line has 142 Polyline's in it.\n",
      "waterway_point has 41 Point's in it.\n",
      "waterway_polygon_polygon has 9 Polygon's in it.\n"
     ]
    }
   ],
   "source": [
    "import arcpy\n",
    "import os\n",
    "\n",
    "osm = r'C:\\Users\\greg6750\\Documents\\IPython Notebooks\\Python_for_GIS_and_RS\\Week_4\\data\\osm\\OSM.gdb'\n",
    "arcpy.env.workspace = osm\n",
    "osm_fcs = arcpy.ListFeatureClasses()\n",
    "for fc in osm_fcs:\n",
    "    fc_count = arcpy.GetCount_management(fc)\n",
    "    desc = arcpy.Describe(fc)\n",
    "    if fc_count == 0:\n",
    "        print(os.path.basename(fc) + \" has 0 featues in it!\")\n",
    "    else:\n",
    "        print(os.path.basename(fc) + \" has \" + str(fc_count) + \" \" + desc.shapeType + \"'s in it.\")"
   ]
  },
  {
   "cell_type": "markdown",
   "metadata": {},
   "source": [
    "This is a simple example of how lists, describe objects, and geoprocessing capabilities (i.e. GetCount_management) can come together to automate a task. Pay close attention because Project 1 will test your ability to use these concepts!"
   ]
  }
 ],
 "metadata": {
  "anaconda-cloud": {},
  "kernelspec": {
   "display_name": "Python 3",
   "language": "python",
   "name": "python3"
  },
  "language_info": {
   "codemirror_mode": {
    "name": "ipython",
    "version": 3
   },
   "file_extension": ".py",
   "mimetype": "text/x-python",
   "name": "python",
   "nbconvert_exporter": "python",
   "pygments_lexer": "ipython3",
   "version": "3.6.10"
  },
  "nbpresent": {
   "slides": {
    "7952cceb-ccbc-4eb2-bc37-f9c2696d8b71": {
     "id": "7952cceb-ccbc-4eb2-bc37-f9c2696d8b71",
     "prev": null,
     "regions": {
      "3403af56-5e29-43c9-aa10-5fdf0921287b": {
       "attrs": {
        "height": 0.8,
        "width": 0.45,
        "x": 0.5,
        "y": 0.1
       },
       "id": "3403af56-5e29-43c9-aa10-5fdf0921287b"
      }
     }
    }
   },
   "themes": {}
  }
 },
 "nbformat": 4,
 "nbformat_minor": 1
}
