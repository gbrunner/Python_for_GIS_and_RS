{
 "cells": [
  {
   "cell_type": "markdown",
   "metadata": {},
   "source": [
    "# Environments and Coordinate Systems"
   ]
  },
  {
   "cell_type": "code",
   "execution_count": 1,
   "metadata": {},
   "outputs": [],
   "source": [
    "import arcpy"
   ]
  },
  {
   "cell_type": "markdown",
   "metadata": {},
   "source": [
    "## Coordinate Systems\n",
    "\n",
    "Coordinate systems can be referenced by name (as a string), well-known id, or via a projection file that describes the coordinate system. Check out [spatialreference.org](https://spatialreference.org/ref/epsg/wgs-84/) to learn more about sptial references."
   ]
  },
  {
   "cell_type": "code",
   "execution_count": 2,
   "metadata": {},
   "outputs": [
    {
     "name": "stdout",
     "output_type": "stream",
     "text": [
      "<geoprocessing spatial reference object object at 0x00000245BBB288F0>\n"
     ]
    }
   ],
   "source": [
    "sr = arcpy.SpatialReference(4326)\n",
    "print(sr)"
   ]
  },
  {
   "cell_type": "markdown",
   "metadata": {},
   "source": [
    "### What does that mean?\n",
    "\n",
    "In order to see the spatial reference name, you need to call the ```name``` variable."
   ]
  },
  {
   "cell_type": "code",
   "execution_count": 3,
   "metadata": {},
   "outputs": [
    {
     "name": "stdout",
     "output_type": "stream",
     "text": [
      "GCS_WGS_1984\n"
     ]
    }
   ],
   "source": [
    "print(sr.name)"
   ]
  },
  {
   "cell_type": "markdown",
   "metadata": {},
   "source": [
    "## Reference by name"
   ]
  },
  {
   "cell_type": "code",
   "execution_count": 4,
   "metadata": {},
   "outputs": [
    {
     "name": "stdout",
     "output_type": "stream",
     "text": [
      "<geoprocessing spatial reference object object at 0x00000245BCEF0B50>\n"
     ]
    }
   ],
   "source": [
    "sr = arcpy.SpatialReference('Hawaii Albers Equal Area Conic')\n",
    "print(sr)"
   ]
  },
  {
   "cell_type": "code",
   "execution_count": 5,
   "metadata": {},
   "outputs": [
    {
     "name": "stdout",
     "output_type": "stream",
     "text": [
      "Hawaii_Albers_Equal_Area_Conic\n"
     ]
    }
   ],
   "source": [
    "print(sr.name)"
   ]
  },
  {
   "cell_type": "code",
   "execution_count": 6,
   "metadata": {},
   "outputs": [
    {
     "name": "stdout",
     "output_type": "stream",
     "text": [
      "102007\n"
     ]
    }
   ],
   "source": [
    "print(sr.factoryCode)"
   ]
  },
  {
   "cell_type": "markdown",
   "metadata": {},
   "source": [
    "## Try a random ```wkid```"
   ]
  },
  {
   "cell_type": "code",
   "execution_count": 7,
   "metadata": {},
   "outputs": [
    {
     "name": "stdout",
     "output_type": "stream",
     "text": [
      "NAD_1983_StatePlane_Texas_South_Central_FIPS_4204_Feet\n"
     ]
    }
   ],
   "source": [
    "sr = arcpy.SpatialReference(2278)\n",
    "print(sr.name)"
   ]
  },
  {
   "cell_type": "markdown",
   "metadata": {},
   "source": [
    "## Listing Spatial References"
   ]
  },
  {
   "cell_type": "code",
   "execution_count": 8,
   "metadata": {},
   "outputs": [
    {
     "name": "stdout",
     "output_type": "stream",
     "text": [
      "Projected Coordinate Systems/State Plane/NAD 1927 (US Feet)/NAD 1927 StatePlane Missouri Central FIPS 2402\n",
      "Projected Coordinate Systems/State Plane/NAD 1927 (US Feet)/NAD 1927 StatePlane Missouri East FIPS 2401\n",
      "Projected Coordinate Systems/State Plane/NAD 1927 (US Feet)/NAD 1927 StatePlane Missouri West FIPS 2403\n",
      "Projected Coordinate Systems/State Plane/NAD 1983 (2011) (Meters)/NAD 1983 (2011) StatePlane Missouri Central FIPS 2402 (Meters)\n",
      "Projected Coordinate Systems/State Plane/NAD 1983 (2011) (Meters)/NAD 1983 (2011) StatePlane Missouri East FIPS 2401 (Meters)\n",
      "Projected Coordinate Systems/State Plane/NAD 1983 (2011) (Meters)/NAD 1983 (2011) StatePlane Missouri West FIPS 2403 (Meters)\n",
      "Projected Coordinate Systems/State Plane/NAD 1983 (CORS96) (Meters)/NAD 1983 (CORS96) StatePlane Missouri Central FIPS 2402 (Meters)\n",
      "Projected Coordinate Systems/State Plane/NAD 1983 (CORS96) (Meters)/NAD 1983 (CORS96) StatePlane Missouri East FIPS 2401 (Meters)\n",
      "Projected Coordinate Systems/State Plane/NAD 1983 (CORS96) (Meters)/NAD 1983 (CORS96) StatePlane Missouri West FIPS 2403 (Meters)\n",
      "Projected Coordinate Systems/State Plane/NAD 1983 (Meters)/NAD 1983 StatePlane Missouri Central FIPS 2402 (Meters)\n",
      "Projected Coordinate Systems/State Plane/NAD 1983 (Meters)/NAD 1983 StatePlane Missouri East FIPS 2401 (Meters)\n",
      "Projected Coordinate Systems/State Plane/NAD 1983 (Meters)/NAD 1983 StatePlane Missouri West FIPS 2403 (Meters)\n",
      "Projected Coordinate Systems/State Plane/NAD 1983 (US Feet)/NAD 1983 StatePlane Missouri Central FIPS 2402 (US Feet)\n",
      "Projected Coordinate Systems/State Plane/NAD 1983 (US Feet)/NAD 1983 StatePlane Missouri East FIPS 2401 (US Feet)\n",
      "Projected Coordinate Systems/State Plane/NAD 1983 (US Feet)/NAD 1983 StatePlane Missouri West FIPS 2403 (US Feet)\n",
      "Projected Coordinate Systems/State Plane/NAD 1983 HARN (Meters)/NAD 1983 HARN StatePlane Missouri Central FIPS 2402 (Meters)\n",
      "Projected Coordinate Systems/State Plane/NAD 1983 HARN (Meters)/NAD 1983 HARN StatePlane Missouri East FIPS 2401 (Meters)\n",
      "Projected Coordinate Systems/State Plane/NAD 1983 HARN (Meters)/NAD 1983 HARN StatePlane Missouri West FIPS 2403 (Meters)\n",
      "Projected Coordinate Systems/State Plane/NAD 1983 NSRS2007 (Meters)/NAD 1983 NSRS2007 StatePlane Missouri Central FIPS 2402 (Meters)\n",
      "Projected Coordinate Systems/State Plane/NAD 1983 NSRS2007 (Meters)/NAD 1983 NSRS2007 StatePlane Missouri East FIPS 2401 (Meters)\n",
      "Projected Coordinate Systems/State Plane/NAD 1983 NSRS2007 (Meters)/NAD 1983 NSRS2007 StatePlane Missouri West FIPS 2403 (Meters)\n"
     ]
    }
   ],
   "source": [
    "missouri_srs = arcpy.ListSpatialReferences('*Missouri*')\n",
    "for sr in missouri_srs:\n",
    "    print(sr)"
   ]
  },
  {
   "cell_type": "markdown",
   "metadata": {},
   "source": [
    "## Environments"
   ]
  },
  {
   "cell_type": "markdown",
   "metadata": {},
   "source": [
    "Environments are hidden parameters that influence how a tool runs. The most common environments that I use include:\n",
    "- ```arcpy.env.workspace```\n",
    "- ```arcpy.env.overwriteOutput```\n",
    "- ```arcpy.env.scratchWorkspace```"
   ]
  },
  {
   "cell_type": "code",
   "execution_count": 9,
   "metadata": {},
   "outputs": [
    {
     "name": "stdout",
     "output_type": "stream",
     "text": [
      "None\n"
     ]
    }
   ],
   "source": [
    "print(arcpy.env.workspace)"
   ]
  },
  {
   "cell_type": "code",
   "execution_count": 10,
   "metadata": {},
   "outputs": [
    {
     "name": "stdout",
     "output_type": "stream",
     "text": [
      "/arcgis/home\n"
     ]
    }
   ],
   "source": [
    "arcpy.env.workspace = '/arcgis/home'\n",
    "print(arcpy.env.workspace)"
   ]
  },
  {
   "cell_type": "code",
   "execution_count": 11,
   "metadata": {},
   "outputs": [
    {
     "name": "stdout",
     "output_type": "stream",
     "text": [
      "False\n"
     ]
    }
   ],
   "source": [
    "print(arcpy.env.overwriteOutput)"
   ]
  },
  {
   "cell_type": "code",
   "execution_count": 12,
   "metadata": {},
   "outputs": [
    {
     "name": "stdout",
     "output_type": "stream",
     "text": [
      "True\n"
     ]
    }
   ],
   "source": [
    "arcpy.env.overwriteOutput = True\n",
    "print(arcpy.env.overwriteOutput)"
   ]
  },
  {
   "cell_type": "code",
   "execution_count": null,
   "metadata": {},
   "outputs": [],
   "source": []
  },
  {
   "cell_type": "code",
   "execution_count": null,
   "metadata": {},
   "outputs": [],
   "source": []
  }
 ],
 "metadata": {
  "esriNotebookRuntime": {
   "notebookRuntimeName": "ArcGIS Notebook Python 3 Advanced",
   "notebookRuntimeVersion": "4.0"
  },
  "kernelspec": {
   "display_name": "Python 3",
   "language": "python",
   "name": "python3"
  },
  "language_info": {
   "codemirror_mode": {
    "name": "ipython",
    "version": 3
   },
   "file_extension": ".py",
   "mimetype": "text/x-python",
   "name": "python",
   "nbconvert_exporter": "python",
   "pygments_lexer": "ipython3",
   "version": "3.6.10"
  }
 },
 "nbformat": 4,
 "nbformat_minor": 2
}
