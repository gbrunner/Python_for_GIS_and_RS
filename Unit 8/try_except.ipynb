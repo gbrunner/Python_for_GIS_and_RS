{
 "cells": [
  {
   "cell_type": "markdown",
   "metadata": {},
   "source": [
    "# This illustrates the utility of ```try-except```\n",
    "\n",
    "The real data is at:\n",
    "- C:\\Users\\greg6750\\Documents\\IPython Notebooks\\intro-prog-for-gis-rs\\march_23\n",
    "- C:\\Users\\greg6750\\Documents\\IPython Notebooks\\intro-prog-for-gis-rs\\march_23\\crime.gdb\\feb_2020\n",
    "\n",
    "Data taken from: https://www.slmpd.org/Crimereports.shtml\n",
    "\n",
    "1. Run this so taht it works.\n",
    "2. The run it and it fails.\n",
    "3. Then run the next cell."
   ]
  },
  {
   "cell_type": "code",
   "execution_count": 5,
   "metadata": {},
   "outputs": [
    {
     "name": "stdout",
     "output_type": "stream",
     "text": [
      "Creating File GDB\n"
     ]
    },
    {
     "ename": "ExecuteError",
     "evalue": "ERROR 000258: Output C:\\Users\\greg6750\\Documents\\IPython Notebooks\\intro-prog-for-gis-rs\\march_23\\crime.gdb already exists\nFailed to execute (CreateFileGDB).\n",
     "output_type": "error",
     "traceback": [
      "\u001b[1;31m---------------------------------------------------------------------------\u001b[0m",
      "\u001b[1;31mExecuteError\u001b[0m                              Traceback (most recent call last)",
      "\u001b[1;32m<ipython-input-5-b16e9b61c0ee>\u001b[0m in \u001b[0;36m<module>\u001b[1;34m\u001b[0m\n\u001b[0;32m     19\u001b[0m \u001b[0mprint\u001b[0m\u001b[1;33m(\u001b[0m\u001b[1;34m\"Creating File GDB\"\u001b[0m\u001b[1;33m)\u001b[0m\u001b[1;33m\u001b[0m\u001b[1;33m\u001b[0m\u001b[0m\n\u001b[0;32m     20\u001b[0m arcpy.CreateFileGDB_management(os.path.dirname(gdb_name),\n\u001b[1;32m---> 21\u001b[1;33m                             os.path.basename(gdb_name))\n\u001b[0m\u001b[0;32m     22\u001b[0m \u001b[1;33m\u001b[0m\u001b[0m\n\u001b[0;32m     23\u001b[0m \u001b[1;31m##Create table from csv file\u001b[0m\u001b[1;33m\u001b[0m\u001b[1;33m\u001b[0m\u001b[1;33m\u001b[0m\u001b[0m\n",
      "\u001b[1;32mC:\\Program Files\\ArcGIS\\Pro\\Resources\\ArcPy\\arcpy\\management.py\u001b[0m in \u001b[0;36mCreateFileGDB\u001b[1;34m(out_folder_path, out_name, out_version)\u001b[0m\n\u001b[0;32m  21591\u001b[0m         \u001b[1;32mreturn\u001b[0m \u001b[0mretval\u001b[0m\u001b[1;33m\u001b[0m\u001b[1;33m\u001b[0m\u001b[0m\n\u001b[0;32m  21592\u001b[0m     \u001b[1;32mexcept\u001b[0m \u001b[0mException\u001b[0m \u001b[1;32mas\u001b[0m \u001b[0me\u001b[0m\u001b[1;33m:\u001b[0m\u001b[1;33m\u001b[0m\u001b[1;33m\u001b[0m\u001b[0m\n\u001b[1;32m> 21593\u001b[1;33m         \u001b[1;32mraise\u001b[0m \u001b[0me\u001b[0m\u001b[1;33m\u001b[0m\u001b[1;33m\u001b[0m\u001b[0m\n\u001b[0m\u001b[0;32m  21594\u001b[0m \u001b[1;33m\u001b[0m\u001b[0m\n\u001b[0;32m  21595\u001b[0m \u001b[1;33m@\u001b[0m\u001b[0mgptooldoc\u001b[0m\u001b[1;33m(\u001b[0m\u001b[1;34m'CreateFolder_management'\u001b[0m\u001b[1;33m,\u001b[0m \u001b[1;32mNone\u001b[0m\u001b[1;33m)\u001b[0m\u001b[1;33m\u001b[0m\u001b[1;33m\u001b[0m\u001b[0m\n",
      "\u001b[1;32mC:\\Program Files\\ArcGIS\\Pro\\Resources\\ArcPy\\arcpy\\management.py\u001b[0m in \u001b[0;36mCreateFileGDB\u001b[1;34m(out_folder_path, out_name, out_version)\u001b[0m\n\u001b[0;32m  21588\u001b[0m     \u001b[1;32mfrom\u001b[0m \u001b[0marcpy\u001b[0m\u001b[1;33m.\u001b[0m\u001b[0marcobjects\u001b[0m\u001b[1;33m.\u001b[0m\u001b[0marcobjectconversion\u001b[0m \u001b[1;32mimport\u001b[0m \u001b[0mconvertArcObjectToPythonObject\u001b[0m\u001b[1;33m\u001b[0m\u001b[1;33m\u001b[0m\u001b[0m\n\u001b[0;32m  21589\u001b[0m     \u001b[1;32mtry\u001b[0m\u001b[1;33m:\u001b[0m\u001b[1;33m\u001b[0m\u001b[1;33m\u001b[0m\u001b[0m\n\u001b[1;32m> 21590\u001b[1;33m         \u001b[0mretval\u001b[0m \u001b[1;33m=\u001b[0m \u001b[0mconvertArcObjectToPythonObject\u001b[0m\u001b[1;33m(\u001b[0m\u001b[0mgp\u001b[0m\u001b[1;33m.\u001b[0m\u001b[0mCreateFileGDB_management\u001b[0m\u001b[1;33m(\u001b[0m\u001b[1;33m*\u001b[0m\u001b[0mgp_fixargs\u001b[0m\u001b[1;33m(\u001b[0m\u001b[1;33m(\u001b[0m\u001b[0mout_folder_path\u001b[0m\u001b[1;33m,\u001b[0m \u001b[0mout_name\u001b[0m\u001b[1;33m,\u001b[0m \u001b[0mout_version\u001b[0m\u001b[1;33m)\u001b[0m\u001b[1;33m,\u001b[0m \u001b[1;32mTrue\u001b[0m\u001b[1;33m)\u001b[0m\u001b[1;33m)\u001b[0m\u001b[1;33m)\u001b[0m\u001b[1;33m\u001b[0m\u001b[1;33m\u001b[0m\u001b[0m\n\u001b[0m\u001b[0;32m  21591\u001b[0m         \u001b[1;32mreturn\u001b[0m \u001b[0mretval\u001b[0m\u001b[1;33m\u001b[0m\u001b[1;33m\u001b[0m\u001b[0m\n\u001b[0;32m  21592\u001b[0m     \u001b[1;32mexcept\u001b[0m \u001b[0mException\u001b[0m \u001b[1;32mas\u001b[0m \u001b[0me\u001b[0m\u001b[1;33m:\u001b[0m\u001b[1;33m\u001b[0m\u001b[1;33m\u001b[0m\u001b[0m\n",
      "\u001b[1;32mC:\\Program Files\\ArcGIS\\Pro\\Resources\\ArcPy\\arcpy\\geoprocessing\\_base.py\u001b[0m in \u001b[0;36m<lambda>\u001b[1;34m(*args)\u001b[0m\n\u001b[0;32m    509\u001b[0m         \u001b[0mval\u001b[0m \u001b[1;33m=\u001b[0m \u001b[0mgetattr\u001b[0m\u001b[1;33m(\u001b[0m\u001b[0mself\u001b[0m\u001b[1;33m.\u001b[0m\u001b[0m_gp\u001b[0m\u001b[1;33m,\u001b[0m \u001b[0mattr\u001b[0m\u001b[1;33m)\u001b[0m\u001b[1;33m\u001b[0m\u001b[1;33m\u001b[0m\u001b[0m\n\u001b[0;32m    510\u001b[0m         \u001b[1;32mif\u001b[0m \u001b[0mcallable\u001b[0m\u001b[1;33m(\u001b[0m\u001b[0mval\u001b[0m\u001b[1;33m)\u001b[0m\u001b[1;33m:\u001b[0m\u001b[1;33m\u001b[0m\u001b[1;33m\u001b[0m\u001b[0m\n\u001b[1;32m--> 511\u001b[1;33m             \u001b[1;32mreturn\u001b[0m \u001b[1;32mlambda\u001b[0m \u001b[1;33m*\u001b[0m\u001b[0margs\u001b[0m\u001b[1;33m:\u001b[0m \u001b[0mval\u001b[0m\u001b[1;33m(\u001b[0m\u001b[1;33m*\u001b[0m\u001b[0mgp_fixargs\u001b[0m\u001b[1;33m(\u001b[0m\u001b[0margs\u001b[0m\u001b[1;33m,\u001b[0m \u001b[1;32mTrue\u001b[0m\u001b[1;33m)\u001b[0m\u001b[1;33m)\u001b[0m\u001b[1;33m\u001b[0m\u001b[1;33m\u001b[0m\u001b[0m\n\u001b[0m\u001b[0;32m    512\u001b[0m         \u001b[1;32melse\u001b[0m\u001b[1;33m:\u001b[0m\u001b[1;33m\u001b[0m\u001b[1;33m\u001b[0m\u001b[0m\n\u001b[0;32m    513\u001b[0m             \u001b[1;32mreturn\u001b[0m \u001b[0mconvertArcObjectToPythonObject\u001b[0m\u001b[1;33m(\u001b[0m\u001b[0mval\u001b[0m\u001b[1;33m)\u001b[0m\u001b[1;33m\u001b[0m\u001b[1;33m\u001b[0m\u001b[0m\n",
      "\u001b[1;31mExecuteError\u001b[0m: ERROR 000258: Output C:\\Users\\greg6750\\Documents\\IPython Notebooks\\intro-prog-for-gis-rs\\march_23\\crime.gdb already exists\nFailed to execute (CreateFileGDB).\n"
     ]
    }
   ],
   "source": [
    "import os\n",
    "import arcpy\n",
    "from arcpy import env\n",
    "\n",
    "#arcpy.env.overwriteOutput = True\n",
    "\n",
    "#input_table = r\"C:\\Answers\\fakelocation\\January2018.CSV\"\n",
    "input_table = r'C:\\Users\\greg6750\\Documents\\IPython Notebooks\\intro-prog-for-gis-rs\\march_23\\February2020.CSV'\n",
    "#output_fc =  r\"C:\\Answers\\crime.gdb\\January2018_Crime\"\n",
    "output_fc = r'C:\\Users\\greg6750\\Documents\\IPython Notebooks\\intro-prog-for-gis-rs\\march_23\\crime.gdb\\feb_2020'\n",
    "spRef = arcpy.SpatialReference(\"NAD 1983 StatePlane Missouri East FIPS 2401 (US Feet)\")\n",
    "\n",
    "gdb_name = os.path.dirname(output_fc)\n",
    "fc_name  = os.path.basename(output_fc)\n",
    "\n",
    "#env.overwriteOutput = True\n",
    "\n",
    "#try:\n",
    "print(\"Creating File GDB\")\n",
    "arcpy.CreateFileGDB_management(os.path.dirname(gdb_name),\n",
    "                            os.path.basename(gdb_name))\n",
    "\n",
    "##Create table from csv file\n",
    "print(gdb_name)\n",
    "table_name = \"January2018_Table\"\n",
    "out_table = os.path.join(gdb_name, table_name)\n",
    "print(\"Converting CSV to GDB Table\")\n",
    "arcpy.TableToTable_conversion(input_table, gdb_name, table_name, \"\", \"\", \"\")\n",
    "\n",
    "##Make XY events layer\n",
    "events_layer = \"crime_points\"\n",
    "print(\"Make FC Layer\")\n",
    "arcpy.MakeXYEventLayer_management(out_table, \"xcoord\", \"ycoord\", events_layer, \"\", \"\")\n",
    "\n",
    "##Output events layer to feature class\n",
    "print(\"FC to FC\")\n",
    "arcpy.FeatureClassToFeatureClass_conversion(events_layer, gdb_name, fc_name, \"\", \"\", \"\")\n",
    "\n",
    "##Define projection\n",
    "print(\"Defining Projection.\")\n",
    "arcpy.DefineProjection_management(output_fc, spRef)\n",
    "\n",
    "#except:\n",
    "#    print \"An Error Occured\"\n",
    "\n",
    "\n",
    "print(\"Done.\")\n"
   ]
  },
  {
   "cell_type": "code",
   "execution_count": 3,
   "metadata": {},
   "outputs": [
    {
     "name": "stdout",
     "output_type": "stream",
     "text": [
      "Creating File GDB\n",
      "An Error Occured\n",
      "Done.\n"
     ]
    }
   ],
   "source": [
    "import os\n",
    "import arcpy\n",
    "from arcpy import env\n",
    "\n",
    "input_table = r\"C:\\Answers\\fakelocation\\January2018.CSV\"\n",
    "output_fc =  r\"C:\\Answers\\crime.gdb\\January2018_Crime\"\n",
    "spRef = arcpy.SpatialReference(\"NAD 1983 StatePlane Missouri East FIPS 2401 (US Feet)\")\n",
    "\n",
    "gdb_name = os.path.dirname(output_fc)\n",
    "fc_name  = os.path.basename(output_fc)\n",
    "\n",
    "#env.overwriteOutput = True\n",
    "\n",
    "try:\n",
    "    print(\"Creating File GDB\")\n",
    "    arcpy.CreateFileGDB_management(os.path.dirname(gdb_name),\n",
    "                                os.path.basename(gdb_name))\n",
    "\n",
    "    ##Create table from csv file\n",
    "    print(gdb_name)\n",
    "    table_name = \"January2018_Table\"\n",
    "    out_table = os.path.join(gdb_name, table_name)\n",
    "    print(\"Converting CSV to GDB Table\")\n",
    "    arcpy.TableToTable_conversion(input_table, gdb_name, table_name, \"\", \"\", \"\")\n",
    "\n",
    "    ##Make XY events layer\n",
    "    events_layer = \"crime_points\"\n",
    "    print(\"Make FC Layer\")\n",
    "    arcpy.MakeXYEventLayer_management(out_table, \"xcoord\", \"ycoord\", events_layer, \"\", \"\")\n",
    "\n",
    "    ##Output events layer to feature class\n",
    "    print(\"FC to FC\")\n",
    "    arcpy.FeatureClassToFeatureClass_conversion(events_layer, gdb_name, fc_name, \"\", \"\", \"\")\n",
    "\n",
    "    ##Define projection\n",
    "    print(\"Defining Projection.\")\n",
    "    arcpy.DefineProjection_management(output_fc, spRef)\n",
    "\n",
    "except:\n",
    "    print(\"An Error Occured\")\n",
    "\n",
    "\n",
    "print(\"Done.\")\n"
   ]
  },
  {
   "cell_type": "code",
   "execution_count": null,
   "metadata": {},
   "outputs": [],
   "source": []
  }
 ],
 "metadata": {
  "kernelspec": {
   "display_name": "Python 3",
   "language": "python",
   "name": "python3"
  },
  "language_info": {
   "codemirror_mode": {
    "name": "ipython",
    "version": 3
   },
   "file_extension": ".py",
   "mimetype": "text/x-python",
   "name": "python",
   "nbconvert_exporter": "python",
   "pygments_lexer": "ipython3",
   "version": "3.6.9"
  }
 },
 "nbformat": 4,
 "nbformat_minor": 4
}
