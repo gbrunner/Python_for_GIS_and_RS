{
 "cells": [
  {
   "cell_type": "markdown",
   "metadata": {},
   "source": [
    "# Problem 1"
   ]
  },
  {
   "cell_type": "code",
   "execution_count": 2,
   "metadata": {},
   "outputs": [
    {
     "name": "stdout",
     "output_type": "stream",
     "text": [
      "aeroway_line is a Polyline feature class\n",
      "aeroway_point is a Point feature class\n",
      "aeroway_polygon_polygon is a Polygon feature class\n",
      "amenity_point is a Point feature class\n",
      "amenity_polygon_polygon is a Polygon feature class\n",
      "barrier_line is a Polyline feature class\n",
      "barrier_point is a Point feature class\n",
      "barrier_polygon_polygon is a Polygon feature class\n",
      "boundary_line is a Polyline feature class\n",
      "boundary_polygon_polygon is a Polygon feature class\n",
      "building_point is a Point feature class\n",
      "building_polygon_polygon is a Polygon feature class\n",
      "craft_polygon_polygon is a Polygon feature class\n",
      "highway_line is a Polyline feature class\n",
      "highway_point is a Point feature class\n",
      "highway_polygon_polygon is a Polygon feature class\n",
      "historic_point is a Point feature class\n",
      "landuse_line is a Polyline feature class\n",
      "landuse_point is a Point feature class\n",
      "landuse_polygon_polygon is a Polygon feature class\n",
      "leisure_point is a Point feature class\n",
      "leisure_polygon_polygon is a Polygon feature class\n",
      "man_made_line is a Polyline feature class\n",
      "man_made_point is a Point feature class\n",
      "man_made_polygon_polygon is a Polygon feature class\n",
      "natural_point is a Point feature class\n",
      "natural_polygon_polygon is a Polygon feature class\n",
      "office_point is a Point feature class\n",
      "place_line is a Polyline feature class\n",
      "place_point is a Point feature class\n",
      "place_polygon_polygon is a Polygon feature class\n",
      "power_line is a Polyline feature class\n",
      "power_point is a Point feature class\n",
      "power_polygon_polygon is a Polygon feature class\n",
      "railway_line is a Polyline feature class\n",
      "railway_point is a Point feature class\n",
      "railway_polygon_polygon is a Polygon feature class\n",
      "route_line is a Polyline feature class\n",
      "shop_point is a Point feature class\n",
      "shop_polygon_polygon is a Polygon feature class\n",
      "sport_point is a Point feature class\n",
      "sport_polygon_polygon is a Polygon feature class\n",
      "tourism_point is a Point feature class\n",
      "tourism_polygon_polygon is a Polygon feature class\n",
      "waterway_line is a Polyline feature class\n",
      "waterway_point is a Point feature class\n",
      "waterway_polygon_polygon is a Polygon feature class\n"
     ]
    }
   ],
   "source": [
    "import arcpy\n",
    "from arcpy import env\n",
    "env.workspace = r\"C:\\Users\\greg6750\\Documents\\IPython Notebooks\\intro-prog-for-gis-rs\\Week 3\\data\\data\\osm\\OSM.gdb\"\n",
    "fc_list = arcpy.ListFeatureClasses()\n",
    "for fc in fc_list:\n",
    "    desc = arcpy.Describe(fc)\n",
    "    print(\"{0} is a {1} feature class\".format(desc.basename,desc.shapeType))"
   ]
  },
  {
   "cell_type": "markdown",
   "metadata": {},
   "source": [
    "# Problem 2"
   ]
  },
  {
   "cell_type": "code",
   "execution_count": 4,
   "metadata": {},
   "outputs": [
    {
     "name": "stdout",
     "output_type": "stream",
     "text": [
      "Polyline\n",
      "Point\n",
      "Polygon\n",
      "Point\n",
      "Polygon\n",
      "Polyline\n",
      "Point\n",
      "Polygon\n",
      "Polyline\n",
      "Polygon\n",
      "Point\n",
      "Polygon\n",
      "Polygon\n",
      "Polyline\n",
      "Point\n",
      "Polygon\n",
      "Point\n",
      "Polyline\n",
      "Point\n",
      "Polygon\n",
      "Point\n",
      "Polygon\n",
      "Polyline\n",
      "Point\n",
      "Polygon\n",
      "Point\n",
      "Polygon\n",
      "Point\n",
      "Polyline\n",
      "Point\n",
      "Polygon\n",
      "Polyline\n",
      "Point\n",
      "Polygon\n",
      "Polyline\n",
      "Point\n",
      "Polygon\n",
      "Polyline\n",
      "Point\n",
      "Polygon\n",
      "Point\n",
      "Polygon\n",
      "Point\n",
      "Polygon\n",
      "Polyline\n",
      "Point\n",
      "Polygon\n"
     ]
    }
   ],
   "source": [
    "import arcpy\n",
    "import os\n",
    "from arcpy import env\n",
    "\n",
    "env.overwriteOutput = True\n",
    "arcpy.env.workspace = r\"C:\\Users\\greg6750\\Documents\\IPython Notebooks\\intro-prog-for-gis-rs\\Week 3\\data\\data\\osm\\OSM.gdb\"\n",
    "copy_gdb_folder = r\"C:\\Users\\greg6750\\Documents\\IPython Notebooks\\intro-prog-for-gis-rs\\Week 3\\data\\data\\osm\"\n",
    "copy_gdb = \"new.gdb\"\n",
    "copy_gdb_and_path = os.path.join(copy_gdb_folder, copy_gdb)\n",
    "\n",
    "gdb_fcs = arcpy.ListFeatureClasses()\n",
    "\n",
    "arcpy.CreateFileGDB_management(copy_gdb_folder, copy_gdb)\n",
    "\n",
    "for fc in gdb_fcs:\n",
    "    desc = arcpy.Describe(fc)\n",
    "    print(desc.shapeType)\n",
    "    if desc.shapeType == 'Polyline':\n",
    "        arcpy.CopyFeatures_management(fc, os.path.join(copy_gdb_and_path, desc.basename))\n"
   ]
  },
  {
   "cell_type": "code",
   "execution_count": null,
   "metadata": {},
   "outputs": [],
   "source": []
  }
 ],
 "metadata": {
  "kernelspec": {
   "display_name": "Python 3",
   "language": "python",
   "name": "python3"
  },
  "language_info": {
   "codemirror_mode": {
    "name": "ipython",
    "version": 3
   },
   "file_extension": ".py",
   "mimetype": "text/x-python",
   "name": "python",
   "nbconvert_exporter": "python",
   "pygments_lexer": "ipython3",
   "version": "3.6.10"
  }
 },
 "nbformat": 4,
 "nbformat_minor": 2
}
