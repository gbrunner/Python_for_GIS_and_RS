{
 "cells": [
  {
   "cell_type": "markdown",
   "metadata": {
    "nbpresent": {
     "id": "b3c1c8ef-cadd-4bc1-9c75-7d1a713ef28e"
    }
   },
   "source": [
    "# Lesson 1 - Python Fundamentals"
   ]
  },
  {
   "cell_type": "markdown",
   "metadata": {
    "nbpresent": {
     "id": "585ece95-64cd-42b7-ba11-32a1b10d1a37"
    }
   },
   "source": [
    "## Download or explore Python IDEs"
   ]
  },
  {
   "cell_type": "markdown",
   "metadata": {
    "nbpresent": {
     "id": "8abbb961-b3d3-417c-b44e-edd9714b9d7b"
    }
   },
   "source": [
    "### IDLE"
   ]
  },
  {
   "cell_type": "markdown",
   "metadata": {
    "nbpresent": {
     "id": "0f22c123-5b99-486c-a5af-c6c8f904e21c"
    }
   },
   "source": [
    "While Python code can be writen in any text editor, I recommend that beginners write code using an IDE (INteractive developement environment). The first thing you'll do is open up IDLE, the default IDE that gets installed with ArcGIS. To open IDLE, type \"IDLE\" in your Windows search bar. Your first reslut should be \"IDLE (Python GUI)\". Open IDLE."
   ]
  },
  {
   "cell_type": "markdown",
   "metadata": {
    "nbpresent": {
     "id": "7538e2ad-268b-46a3-869a-543816d7e1f1"
    }
   },
   "source": [
    "IDLE will look something like this: ![IDLE](https://upload.wikimedia.org/wikipedia/en/9/9b/Idle_gui.png)"
   ]
  },
  {
   "cell_type": "markdown",
   "metadata": {
    "nbpresent": {
     "id": "bc26c234-7e69-4cd1-a43c-bbef54f5d4f8"
    }
   },
   "source": [
    "### Pyscripter"
   ]
  },
  {
   "cell_type": "markdown",
   "metadata": {
    "nbpresent": {
     "id": "63898a78-f126-4fe9-a82e-b5c151817328"
    }
   },
   "source": [
    "Pyscripter is a popular Python IDE. The feature of Pyscripter I find most beneficial (compared to IDLE) is _code_ _completion_.  If you are able to install Pyscripter to your machine, I recomment downloading it and installing it for use with class. [Download Pyscripter here: https://sourceforge.net/projects/pyscripter/](https://sourceforge.net/projects/pyscripter/)"
   ]
  },
  {
   "cell_type": "markdown",
   "metadata": {
    "nbpresent": {
     "id": "0536e1c9-7e19-4a2c-bdf2-93ec4632fb24"
    }
   },
   "source": [
    "After downloading Pyscripter, open it. ![It should look something like this:](https://a.fsdn.com/con/app/proj/pyscripter/screenshots/screenshot10.png)"
   ]
  },
  {
   "cell_type": "markdown",
   "metadata": {
    "nbpresent": {
     "id": "4ccd5858-4f78-4e0a-a33f-76f0fe4c678b"
    }
   },
   "source": [
    "## Python Fundamentals"
   ]
  },
  {
   "cell_type": "markdown",
   "metadata": {
    "nbpresent": {
     "id": "4a1ff848-992c-4ef9-8820-32e67bea880c"
    }
   },
   "source": [
    "For these excercises, pleaes use IDLE or Pyscripter as your IDE."
   ]
  },
  {
   "cell_type": "markdown",
   "metadata": {
    "nbpresent": {
     "id": "4f5fb6dc-19f0-4f65-add6-b07e4a90ed10"
    }
   },
   "source": [
    "### Numbers"
   ]
  },
  {
   "cell_type": "markdown",
   "metadata": {
    "nbpresent": {
     "id": "d3260a70-4abd-4a6f-a3a0-ba279f17c215"
    }
   },
   "source": [
    "Python is great for numerical calculations. Please run the following in Python."
   ]
  },
  {
   "cell_type": "code",
   "execution_count": 1,
   "metadata": {
    "nbpresent": {
     "id": "df48e955-578e-4608-b93c-7060abe41f62"
    }
   },
   "outputs": [
    {
     "data": {
      "text/plain": [
       "21"
      ]
     },
     "execution_count": 1,
     "metadata": {},
     "output_type": "execute_result"
    }
   ],
   "source": [
    "7*3"
   ]
  },
  {
   "cell_type": "code",
   "execution_count": 2,
   "metadata": {
    "nbpresent": {
     "id": "ee75d781-226d-4094-b547-f00cb56e721b"
    }
   },
   "outputs": [
    {
     "data": {
      "text/plain": [
       "5.333333333333333"
      ]
     },
     "execution_count": 2,
     "metadata": {},
     "output_type": "execute_result"
    }
   ],
   "source": [
    "16/3"
   ]
  },
  {
   "cell_type": "code",
   "execution_count": 3,
   "metadata": {
    "nbpresent": {
     "id": "acafe19d-4cd2-4f14-956a-e695e216e31e"
    }
   },
   "outputs": [
    {
     "data": {
      "text/plain": [
       "5.333333333333333"
      ]
     },
     "execution_count": 3,
     "metadata": {},
     "output_type": "execute_result"
    }
   ],
   "source": [
    "16/3.0"
   ]
  },
  {
   "cell_type": "code",
   "execution_count": 4,
   "metadata": {
    "nbpresent": {
     "id": "808ba48a-1d55-4b36-ab51-02d65b50f95c"
    }
   },
   "outputs": [
    {
     "data": {
      "text/plain": [
       "1"
      ]
     },
     "execution_count": 4,
     "metadata": {},
     "output_type": "execute_result"
    }
   ],
   "source": [
    "33%4"
   ]
  },
  {
   "cell_type": "markdown",
   "metadata": {
    "nbpresent": {
     "id": "7347bb60-93aa-4a8e-b37c-94440217ddc3"
    }
   },
   "source": [
    "## Question 1: Do you get a different answer when running 16/3 and 16/3.0?"
   ]
  },
  {
   "cell_type": "markdown",
   "metadata": {
    "nbpresent": {
     "id": "e5ab35dc-54f5-439a-bad4-ce71f1b7e90b"
    }
   },
   "source": [
    "## Questions 2: The % sign returns the remainder of a division calculation.  What is the result of 35%4?"
   ]
  },
  {
   "cell_type": "markdown",
   "metadata": {
    "nbpresent": {
     "id": "b2c0f2a3-dc64-42e0-b31e-67c628e87ef9"
    }
   },
   "source": [
    "## Variables"
   ]
  },
  {
   "cell_type": "markdown",
   "metadata": {
    "nbpresent": {
     "id": "0550fe1f-3225-44cf-9930-998d622c3ede"
    }
   },
   "source": [
    "Python uses variables to store information. A variable is a name that represents a value. Here we'll start assigning some values to variables."
   ]
  },
  {
   "cell_type": "code",
   "execution_count": 5,
   "metadata": {
    "nbpresent": {
     "id": "88394f8b-319e-4dc5-bbff-c69dcd902253"
    }
   },
   "outputs": [
    {
     "data": {
      "text/plain": [
       "1"
      ]
     },
     "execution_count": 5,
     "metadata": {},
     "output_type": "execute_result"
    }
   ],
   "source": [
    "x = 21\n",
    "y = 5\n",
    "x*y\n",
    "x/y\n",
    "x%y"
   ]
  },
  {
   "cell_type": "markdown",
   "metadata": {
    "nbpresent": {
     "id": "b296849e-4d03-40d0-b47c-3479e8af204c"
    }
   },
   "source": [
    "## Question 3: What are the results of the three operations you just ran?"
   ]
  },
  {
   "cell_type": "markdown",
   "metadata": {
    "nbpresent": {
     "id": "2aad7f9a-e632-4153-913d-9d7db30a3dc5"
    }
   },
   "source": [
    "## Strings"
   ]
  },
  {
   "cell_type": "markdown",
   "metadata": {
    "nbpresent": {
     "id": "91b3f89a-aee5-4209-95fa-a1ae9baf4660"
    }
   },
   "source": [
    "Strings are a set of characters surrounded by quotation marks (\"\"). Strings can be assigned to variables like the following."
   ]
  },
  {
   "cell_type": "code",
   "execution_count": 6,
   "metadata": {
    "nbpresent": {
     "id": "ef636cf2-762e-4751-b0d9-4bd48332a459"
    }
   },
   "outputs": [],
   "source": [
    "first_name = \"Jack\"\n",
    "last_name = \"Dangermond\"\n",
    "title = \"Founder of Esri\""
   ]
  },
  {
   "cell_type": "markdown",
   "metadata": {
    "nbpresent": {
     "id": "d85f00e2-5049-40d5-b786-230c27f4e041"
    }
   },
   "source": [
    "Strings can be concatenated with _+_ signe. Strings can be printed out with print statements."
   ]
  },
  {
   "cell_type": "code",
   "execution_count": 7,
   "metadata": {
    "nbpresent": {
     "id": "69633c49-85bb-492a-a424-9a88e5b8e8e8"
    }
   },
   "outputs": [
    {
     "name": "stdout",
     "output_type": "stream",
     "text": [
      "Jack Dangermond\n"
     ]
    }
   ],
   "source": [
    "print(first_name + \" \" + last_name)"
   ]
  },
  {
   "cell_type": "code",
   "execution_count": 8,
   "metadata": {
    "nbpresent": {
     "id": "8249b6ea-cdc2-4802-8f04-c20f78911fdf"
    }
   },
   "outputs": [
    {
     "name": "stdout",
     "output_type": "stream",
     "text": [
      "Jack Dangermond, Founder of Esri\n"
     ]
    }
   ],
   "source": [
    "name_and_title = first_name + \" \" + last_name + \", \" + title\n",
    "print(name_and_title)"
   ]
  },
  {
   "cell_type": "markdown",
   "metadata": {
    "nbpresent": {
     "id": "bade0e9c-7b14-420d-8032-95d72e11c4df"
    }
   },
   "source": [
    "We can get the length of the string (the number of characters in the string) with the _len_ function."
   ]
  },
  {
   "cell_type": "code",
   "execution_count": 9,
   "metadata": {
    "nbpresent": {
     "id": "a284dd28-b5ed-428c-93d2-47a383d6495f"
    }
   },
   "outputs": [
    {
     "data": {
      "text/plain": [
       "32"
      ]
     },
     "execution_count": 9,
     "metadata": {},
     "output_type": "execute_result"
    }
   ],
   "source": [
    "len(name_and_title)"
   ]
  },
  {
   "cell_type": "markdown",
   "metadata": {
    "nbpresent": {
     "id": "f4a568d9-5f72-4b1b-8947-6482e1619a57"
    }
   },
   "source": [
    "## Question 4: How many characters are in name_and_title?"
   ]
  },
  {
   "cell_type": "markdown",
   "metadata": {
    "nbpresent": {
     "id": "a5f9486f-d75c-4800-b835-af47da3d6a43"
    }
   },
   "source": [
    "## Lists"
   ]
  },
  {
   "cell_type": "markdown",
   "metadata": {
    "nbpresent": {
     "id": "94965503-93fd-49b9-8147-11bb41751009"
    }
   },
   "source": [
    "In Python, a list is surrounded by brackets []. Lists are commonly used in geoprocessing tools and scripts. Here, we'll for a few lists."
   ]
  },
  {
   "cell_type": "code",
   "execution_count": 10,
   "metadata": {
    "collapsed": true,
    "nbpresent": {
     "id": "acd67681-6a8a-464f-b6ce-04afbf5c8e5c"
    }
   },
   "outputs": [],
   "source": [
    "teams = [\"Steelers\", \"Ravens\", \"Bengals\", \"Browns\"]"
   ]
  },
  {
   "cell_type": "code",
   "execution_count": 11,
   "metadata": {
    "nbpresent": {
     "id": "3e0b3e88-2fbe-454f-a82a-457f45a8b5df"
    }
   },
   "outputs": [
    {
     "name": "stdout",
     "output_type": "stream",
     "text": [
      "['Steelers', 'Ravens', 'Bengals', 'Browns']\n"
     ]
    }
   ],
   "source": [
    "print(teams)"
   ]
  },
  {
   "cell_type": "markdown",
   "metadata": {
    "nbpresent": {
     "id": "35ff5f33-e2c7-43eb-8e06-be132ed49afe"
    }
   },
   "source": [
    "You can retreieve an element from a list using it's index. For example, if I want to get the first element of the list, I can say:"
   ]
  },
  {
   "cell_type": "code",
   "execution_count": 12,
   "metadata": {
    "nbpresent": {
     "id": "ca4b70d1-e68a-4925-8167-f84f85dbc135"
    }
   },
   "outputs": [
    {
     "data": {
      "text/plain": [
       "'Steelers'"
      ]
     },
     "execution_count": 12,
     "metadata": {},
     "output_type": "execute_result"
    }
   ],
   "source": [
    "teams[0]"
   ]
  },
  {
   "cell_type": "markdown",
   "metadata": {
    "nbpresent": {
     "id": "9e7b7bb6-fe2d-4886-8781-83dc7f40b316"
    }
   },
   "source": [
    "If I want tht last emelent, I can say:"
   ]
  },
  {
   "cell_type": "code",
   "execution_count": 13,
   "metadata": {
    "nbpresent": {
     "id": "bdfd5d46-44fa-4515-8467-1775db62e7fe"
    }
   },
   "outputs": [
    {
     "data": {
      "text/plain": [
       "'Browns'"
      ]
     },
     "execution_count": 13,
     "metadata": {},
     "output_type": "execute_result"
    }
   ],
   "source": [
    "teams[3]"
   ]
  },
  {
   "cell_type": "markdown",
   "metadata": {
    "nbpresent": {
     "id": "a3e9f5f2-4a8c-4ad3-9f88-6f5b9928360c"
    }
   },
   "source": [
    "Pytho also has the ability to index elements in reverse (i.e. last to first). This means that I can also get the last element of the list by saying: "
   ]
  },
  {
   "cell_type": "code",
   "execution_count": 14,
   "metadata": {
    "nbpresent": {
     "id": "16938d43-df51-4848-a2f6-1a3cd2f43869"
    }
   },
   "outputs": [
    {
     "data": {
      "text/plain": [
       "'Browns'"
      ]
     },
     "execution_count": 14,
     "metadata": {},
     "output_type": "execute_result"
    }
   ],
   "source": [
    "teams[-1]"
   ]
  },
  {
   "cell_type": "markdown",
   "metadata": {
    "nbpresent": {
     "id": "88ec1c0c-5f5a-4105-b982-c0b751ef4c93"
    }
   },
   "source": [
    "## Questions 5: What does teams[-3] return?"
   ]
  },
  {
   "cell_type": "markdown",
   "metadata": {
    "nbpresent": {
     "id": "cebb3fc4-2176-4541-a9ad-94e00a9c23bb"
    }
   },
   "source": [
    "You can also return a subset of the list by saying"
   ]
  },
  {
   "cell_type": "code",
   "execution_count": 15,
   "metadata": {
    "nbpresent": {
     "id": "8e9cfe6e-24a6-470f-935d-ff508fc20fd8"
    }
   },
   "outputs": [
    {
     "data": {
      "text/plain": [
       "['Ravens', 'Bengals']"
      ]
     },
     "execution_count": 15,
     "metadata": {},
     "output_type": "execute_result"
    }
   ],
   "source": [
    "teams[1:3]"
   ]
  },
  {
   "cell_type": "markdown",
   "metadata": {
    "nbpresent": {
     "id": "acd4c8bd-4cdb-48d0-a76c-af0dc9a57c75"
    }
   },
   "source": [
    "Finally, we can get the length of the list with the len() function again."
   ]
  },
  {
   "cell_type": "code",
   "execution_count": 16,
   "metadata": {
    "nbpresent": {
     "id": "32f73c0a-c005-46c7-8501-9a2a5f8b3da9"
    }
   },
   "outputs": [
    {
     "data": {
      "text/plain": [
       "4"
      ]
     },
     "execution_count": 16,
     "metadata": {},
     "output_type": "execute_result"
    }
   ],
   "source": [
    "len(teams)"
   ]
  },
  {
   "cell_type": "markdown",
   "metadata": {
    "nbpresent": {
     "id": "18589e6b-d074-47ce-a9be-a327c092a300"
    }
   },
   "source": [
    "Lists can also be comprised of numbers. For example:"
   ]
  },
  {
   "cell_type": "code",
   "execution_count": 17,
   "metadata": {
    "collapsed": true,
    "nbpresent": {
     "id": "534f158e-e685-4f73-b7bd-f12ecddd8789"
    }
   },
   "outputs": [],
   "source": [
    "my_list = [5,3,9,6,78,23]"
   ]
  },
  {
   "cell_type": "code",
   "execution_count": 18,
   "metadata": {
    "nbpresent": {
     "id": "3b4d180b-cca4-46a8-b255-20cc1707b86b"
    }
   },
   "outputs": [
    {
     "data": {
      "text/plain": [
       "6"
      ]
     },
     "execution_count": 18,
     "metadata": {},
     "output_type": "execute_result"
    }
   ],
   "source": [
    "len(my_list)"
   ]
  },
  {
   "cell_type": "code",
   "execution_count": 19,
   "metadata": {
    "nbpresent": {
     "id": "e6bc9bd3-b29a-427a-8abc-dd58f8e972ce"
    }
   },
   "outputs": [
    {
     "data": {
      "text/plain": [
       "124"
      ]
     },
     "execution_count": 19,
     "metadata": {},
     "output_type": "execute_result"
    }
   ],
   "source": [
    "sum(my_list)"
   ]
  },
  {
   "cell_type": "markdown",
   "metadata": {
    "nbpresent": {
     "id": "f5b8e6c5-752d-4727-9b70-a638d8b9e304"
    }
   },
   "source": [
    "Lists have a lot of helpful methods. We'll learn about them throught the class, but two that I think are good to know about from the start are _sort_ and _index_."
   ]
  },
  {
   "cell_type": "code",
   "execution_count": 20,
   "metadata": {
    "nbpresent": {
     "id": "668d2aca-9b0f-4e15-9471-a1123a6ac933"
    }
   },
   "outputs": [
    {
     "name": "stdout",
     "output_type": "stream",
     "text": [
      "['Bengals', 'Browns', 'Ravens', 'Steelers']\n"
     ]
    }
   ],
   "source": [
    "# Sort will sort the lst alphabetically\n",
    "teams.sort()\n",
    "print(teams)"
   ]
  },
  {
   "cell_type": "code",
   "execution_count": 21,
   "metadata": {
    "nbpresent": {
     "id": "130d3bca-771f-44f0-aa51-da857265b8d1"
    }
   },
   "outputs": [
    {
     "data": {
      "text/plain": [
       "3"
      ]
     },
     "execution_count": 21,
     "metadata": {},
     "output_type": "execute_result"
    }
   ],
   "source": [
    "# index will give you the index of the element\n",
    "teams.index('Steelers')"
   ]
  },
  {
   "cell_type": "markdown",
   "metadata": {
    "nbpresent": {
     "id": "52b3058a-09f7-4964-a309-5759e294a48a"
    }
   },
   "source": [
    "## Comments in Python"
   ]
  },
  {
   "cell_type": "markdown",
   "metadata": {
    "nbpresent": {
     "id": "c598a5cf-56cb-45ae-87ab-c7e6c0b7a12e"
    }
   },
   "source": [
    "Comments in Python are denoted by ##. Anything with ## before it on a line will not be executed as code. For example, try running:"
   ]
  },
  {
   "cell_type": "code",
   "execution_count": 22,
   "metadata": {
    "collapsed": true,
    "nbpresent": {
     "id": "6136326b-429b-442c-bbda-cd73560b086b"
    }
   },
   "outputs": [],
   "source": [
    "## \"hello world\""
   ]
  },
  {
   "cell_type": "markdown",
   "metadata": {
    "nbpresent": {
     "id": "a0f8a687-71b0-48eb-b714-1a5ba6416b1c"
    }
   },
   "source": [
    "Nothing should happen."
   ]
  },
  {
   "cell_type": "code",
   "execution_count": 23,
   "metadata": {
    "nbpresent": {
     "id": "a8a3813f-536d-431d-bfd2-dc4b06ca110f"
    }
   },
   "outputs": [
    {
     "name": "stdout",
     "output_type": "stream",
     "text": [
      "Hello World\n"
     ]
    }
   ],
   "source": [
    "print(\"Hello World\") ## Hellow world with Python!"
   ]
  },
  {
   "cell_type": "markdown",
   "metadata": {
    "nbpresent": {
     "id": "5e86f5b8-a26d-48f5-8e70-49837767da02"
    }
   },
   "source": [
    "## Functions in Python"
   ]
  },
  {
   "cell_type": "markdown",
   "metadata": {
    "nbpresent": {
     "id": "a67dd10e-8df5-4781-80e9-28b9f118bebe"
    }
   },
   "source": [
    "A function is like a little program that carries out some action. Python contains a set of core functions. These core functions are commonly refered to as builtins. To see the builtin functions of Python type:"
   ]
  },
  {
   "cell_type": "code",
   "execution_count": 24,
   "metadata": {
    "nbpresent": {
     "id": "adc87604-12b1-4e67-ab66-ba857e505cef"
    }
   },
   "outputs": [
    {
     "name": "stdout",
     "output_type": "stream",
     "text": [
      "['ArithmeticError', 'AssertionError', 'AttributeError', 'BaseException', 'BlockingIOError', 'BrokenPipeError', 'BufferError', 'BytesWarning', 'ChildProcessError', 'ConnectionAbortedError', 'ConnectionError', 'ConnectionRefusedError', 'ConnectionResetError', 'DeprecationWarning', 'EOFError', 'Ellipsis', 'EnvironmentError', 'Exception', 'False', 'FileExistsError', 'FileNotFoundError', 'FloatingPointError', 'FutureWarning', 'GeneratorExit', 'IOError', 'ImportError', 'ImportWarning', 'IndentationError', 'IndexError', 'InterruptedError', 'IsADirectoryError', 'KeyError', 'KeyboardInterrupt', 'LookupError', 'MemoryError', 'NameError', 'None', 'NotADirectoryError', 'NotImplemented', 'NotImplementedError', 'OSError', 'OverflowError', 'PendingDeprecationWarning', 'PermissionError', 'ProcessLookupError', 'RecursionError', 'ReferenceError', 'ResourceWarning', 'RuntimeError', 'RuntimeWarning', 'StopAsyncIteration', 'StopIteration', 'SyntaxError', 'SyntaxWarning', 'SystemError', 'SystemExit', 'TabError', 'TimeoutError', 'True', 'TypeError', 'UnboundLocalError', 'UnicodeDecodeError', 'UnicodeEncodeError', 'UnicodeError', 'UnicodeTranslateError', 'UnicodeWarning', 'UserWarning', 'ValueError', 'Warning', 'WindowsError', 'ZeroDivisionError', '__IPYTHON__', '__build_class__', '__debug__', '__doc__', '__import__', '__loader__', '__name__', '__package__', '__spec__', 'abs', 'all', 'any', 'ascii', 'bin', 'bool', 'bytearray', 'bytes', 'callable', 'chr', 'classmethod', 'compile', 'complex', 'copyright', 'credits', 'delattr', 'dict', 'dir', 'divmod', 'dreload', 'enumerate', 'eval', 'exec', 'filter', 'float', 'format', 'frozenset', 'get_ipython', 'getattr', 'globals', 'hasattr', 'hash', 'help', 'hex', 'id', 'input', 'int', 'isinstance', 'issubclass', 'iter', 'len', 'license', 'list', 'locals', 'map', 'max', 'memoryview', 'min', 'next', 'object', 'oct', 'open', 'ord', 'pow', 'print', 'property', 'range', 'repr', 'reversed', 'round', 'set', 'setattr', 'slice', 'sorted', 'staticmethod', 'str', 'sum', 'super', 'tuple', 'type', 'vars', 'zip']\n"
     ]
    }
   ],
   "source": [
    "print(dir(__builtins__))"
   ]
  },
  {
   "cell_type": "code",
   "execution_count": 25,
   "metadata": {
    "nbpresent": {
     "id": "b0ab7ef4-93c3-4894-a492-5f4cff7a3f73"
    }
   },
   "outputs": [
    {
     "data": {
      "text/plain": [
       "12"
      ]
     },
     "execution_count": 25,
     "metadata": {},
     "output_type": "execute_result"
    }
   ],
   "source": [
    "round(11.9)"
   ]
  },
  {
   "cell_type": "markdown",
   "metadata": {
    "nbpresent": {
     "id": "c9e3ec92-b027-462b-89ce-d23368d7c796"
    }
   },
   "source": [
    "You should see _round_ and _pow_ as two of the builtins. _Round_ rounds floating point number to an integer. _Pow_ is a power function. Try the following:"
   ]
  },
  {
   "cell_type": "code",
   "execution_count": 26,
   "metadata": {
    "nbpresent": {
     "id": "8cea0cfd-625e-4ef8-9127-e569bd9eea98"
    }
   },
   "outputs": [
    {
     "data": {
      "text/plain": [
       "64"
      ]
     },
     "execution_count": 26,
     "metadata": {},
     "output_type": "execute_result"
    }
   ],
   "source": [
    "pow(4,3)"
   ]
  },
  {
   "cell_type": "code",
   "execution_count": 27,
   "metadata": {
    "nbpresent": {
     "id": "5b09582a-7f6e-410f-bb23-02de767a33a1"
    }
   },
   "outputs": [
    {
     "data": {
      "text/plain": [
       "18"
      ]
     },
     "execution_count": 27,
     "metadata": {},
     "output_type": "execute_result"
    }
   ],
   "source": [
    "round(18.48)"
   ]
  },
  {
   "cell_type": "code",
   "execution_count": 28,
   "metadata": {
    "nbpresent": {
     "id": "9a3c0223-1834-44fb-875c-f7c2854db616"
    }
   },
   "outputs": [
    {
     "data": {
      "text/plain": [
       "19"
      ]
     },
     "execution_count": 28,
     "metadata": {},
     "output_type": "execute_result"
    }
   ],
   "source": [
    "round(18.52)"
   ]
  },
  {
   "cell_type": "markdown",
   "metadata": {
    "nbpresent": {
     "id": "dee70b6a-b600-463f-a0ed-bd85a34adf06"
    }
   },
   "source": [
    "## Question 6: What is the result of round(21.499)?"
   ]
  },
  {
   "cell_type": "markdown",
   "metadata": {
    "nbpresent": {
     "id": "c058f6c9-158a-4dac-98ae-437c5e5c4f02"
    }
   },
   "source": [
    "You can also see the help documentation for each function in Python. To see the help for _pow_, you can type the following:"
   ]
  },
  {
   "cell_type": "code",
   "execution_count": 29,
   "metadata": {
    "nbpresent": {
     "id": "371b792c-dc29-4b3f-a43a-725c68dc3285"
    }
   },
   "outputs": [
    {
     "name": "stdout",
     "output_type": "stream",
     "text": [
      "round(number[, ndigits]) -> number\n",
      "\n",
      "Round a number to a given precision in decimal digits (default 0 digits).\n",
      "This returns an int when called with one argument, otherwise the\n",
      "same type as the number. ndigits may be negative.\n"
     ]
    }
   ],
   "source": [
    "print(round.__doc__)"
   ]
  },
  {
   "cell_type": "markdown",
   "metadata": {
    "nbpresent": {
     "id": "e31bd656-f66c-4ef5-a4d3-f190429bc0a7"
    }
   },
   "source": [
    "## Methods"
   ]
  },
  {
   "cell_type": "markdown",
   "metadata": {
    "nbpresent": {
     "id": "c89caa4d-ddf3-4c3a-b207-66beb137cf72"
    }
   },
   "source": [
    "Mothods act like functions; however, they are connected to a specific object such as a number, string, or list. If we revisit our example of the first_name, last_name, and title from above, we can explore methods."
   ]
  },
  {
   "cell_type": "code",
   "execution_count": 30,
   "metadata": {
    "collapsed": true,
    "nbpresent": {
     "id": "bbf75ac4-cca0-4821-932d-2241afc5aecb"
    }
   },
   "outputs": [],
   "source": [
    "first_name = \"Jack\"\n",
    "last_name = \"Dangermond\"\n",
    "title = \"Founder of Esri\"\n",
    "name_and_title = first_name + \" \" + last_name + \", \" + title"
   ]
  },
  {
   "cell_type": "code",
   "execution_count": 31,
   "metadata": {
    "nbpresent": {
     "id": "cf327755-6018-43c2-81b1-931830c7b479"
    }
   },
   "outputs": [
    {
     "data": {
      "text/plain": [
       "2"
      ]
     },
     "execution_count": 31,
     "metadata": {},
     "output_type": "execute_result"
    }
   ],
   "source": [
    "name_and_title.count(\"a\") ## Count the number of times a appears in name and title"
   ]
  },
  {
   "cell_type": "markdown",
   "metadata": {
    "nbpresent": {
     "id": "5a63b652-9690-4ca7-8532-e09a3972284f"
    }
   },
   "source": [
    "As ytou can see, _count_ counts the number of times a value appears. We can use the _replace_ method to replace a value in the string."
   ]
  },
  {
   "cell_type": "code",
   "execution_count": 32,
   "metadata": {
    "nbpresent": {
     "id": "11e166c4-2ff0-4b4b-a069-756824497dfe"
    }
   },
   "outputs": [
    {
     "data": {
      "text/plain": [
       "'Jack Dangermond, Founder of GIS'"
      ]
     },
     "execution_count": 32,
     "metadata": {},
     "output_type": "execute_result"
    }
   ],
   "source": [
    "name_and_title.replace(\"Esri\", \"GIS\")"
   ]
  },
  {
   "cell_type": "markdown",
   "metadata": {
    "nbpresent": {
     "id": "c24a71b1-c53e-4e08-bfe6-886c7a020a9c"
    }
   },
   "source": [
    "## Question 7: What does this new string say?"
   ]
  },
  {
   "cell_type": "markdown",
   "metadata": {
    "nbpresent": {
     "id": "87584c02-6d63-4b0b-939f-c5443abfa93b"
    }
   },
   "source": [
    "## Working with Strings"
   ]
  },
  {
   "cell_type": "markdown",
   "metadata": {
    "nbpresent": {
     "id": "f47f7f42-0e35-4e19-9845-a52fbc93f580"
    }
   },
   "source": [
    "Python has a lot of awesome built-in methods for working with strings. For our purposes, many geoprocessing tasks use strings as inputs or outputs and it will be very beneficial to us to understand how we can use Python to work with strings. Here, we'll explore a few."
   ]
  },
  {
   "cell_type": "code",
   "execution_count": 33,
   "metadata": {
    "collapsed": true,
    "nbpresent": {
     "id": "4b67922d-3cd9-4d07-9f75-339ee15d0458"
    }
   },
   "outputs": [],
   "source": [
    "uni = \"Saint Louis University\""
   ]
  },
  {
   "cell_type": "code",
   "execution_count": 34,
   "metadata": {
    "nbpresent": {
     "id": "9d298755-4c74-461c-95b2-38bb31eede63"
    }
   },
   "outputs": [
    {
     "name": "stdout",
     "output_type": "stream",
     "text": [
      "Saint Louis University\n"
     ]
    }
   ],
   "source": [
    "print(uni)"
   ]
  },
  {
   "cell_type": "code",
   "execution_count": 35,
   "metadata": {
    "nbpresent": {
     "id": "e1683d4a-3128-4f65-b32f-0ba76f7d16ff"
    }
   },
   "outputs": [
    {
     "name": "stdout",
     "output_type": "stream",
     "text": [
      "SAINT LOUIS UNIVERSITY\n"
     ]
    }
   ],
   "source": [
    "print(uni.upper()) ##Should print out Univserity name in all caps"
   ]
  },
  {
   "cell_type": "code",
   "execution_count": 36,
   "metadata": {
    "nbpresent": {
     "id": "87335c7a-8964-4b68-896c-83cc91752bf2"
    }
   },
   "outputs": [
    {
     "name": "stdout",
     "output_type": "stream",
     "text": [
      "saint louis university\n"
     ]
    }
   ],
   "source": [
    "print(uni.lower())"
   ]
  },
  {
   "cell_type": "code",
   "execution_count": 37,
   "metadata": {
    "nbpresent": {
     "id": "e9b5a08f-0086-4565-94a1-d290cb88b242"
    }
   },
   "outputs": [
    {
     "name": "stdout",
     "output_type": "stream",
     "text": [
      "Saint\n"
     ]
    }
   ],
   "source": [
    "print(uni[0:5])"
   ]
  },
  {
   "cell_type": "code",
   "execution_count": 38,
   "metadata": {
    "nbpresent": {
     "id": "5dbfaf49-69c5-4093-a0fa-38b5da1866b5"
    }
   },
   "outputs": [
    {
     "name": "stdout",
     "output_type": "stream",
     "text": [
      "Louis\n"
     ]
    }
   ],
   "source": [
    "print(uni[6:11])"
   ]
  },
  {
   "cell_type": "code",
   "execution_count": 39,
   "metadata": {
    "nbpresent": {
     "id": "7014c8d3-d977-408e-b6a2-d90e70ee91cc"
    }
   },
   "outputs": [
    {
     "name": "stdout",
     "output_type": "stream",
     "text": [
      "University\n"
     ]
    }
   ],
   "source": [
    "print(uni[12:])"
   ]
  },
  {
   "cell_type": "code",
   "execution_count": 40,
   "metadata": {
    "nbpresent": {
     "id": "7193f342-7e9d-4255-ad9d-2abead418733"
    }
   },
   "outputs": [
    {
     "name": "stdout",
     "output_type": "stream",
     "text": [
      "SLU\n"
     ]
    }
   ],
   "source": [
    "print(uni[0]+uni[6]+uni[12]) "
   ]
  },
  {
   "cell_type": "markdown",
   "metadata": {
    "nbpresent": {
     "id": "70279553-d8c1-4be5-b278-becc461007a7"
    }
   },
   "source": [
    "## Question 8: What does print(uni[0]+uni[6]+uni[12])  yeild?"
   ]
  },
  {
   "cell_type": "code",
   "execution_count": 41,
   "metadata": {
    "nbpresent": {
     "id": "b18b719e-822a-42a1-9cbf-650dd3c5d081"
    }
   },
   "outputs": [
    {
     "data": {
      "text/plain": [
       "6"
      ]
     },
     "execution_count": 41,
     "metadata": {},
     "output_type": "execute_result"
    }
   ],
   "source": [
    "uni.find(\"Lou\") ## Find the string \"Lou\" in uni"
   ]
  },
  {
   "cell_type": "code",
   "execution_count": 42,
   "metadata": {
    "nbpresent": {
     "id": "78df9056-9757-4652-824c-e6472533c323"
    }
   },
   "outputs": [
    {
     "data": {
      "text/plain": [
       "'Louis University'"
      ]
     },
     "execution_count": 42,
     "metadata": {},
     "output_type": "execute_result"
    }
   ],
   "source": [
    "uni[6:]"
   ]
  },
  {
   "cell_type": "code",
   "execution_count": 43,
   "metadata": {
    "nbpresent": {
     "id": "3e099732-f9d1-46a2-9662-c61eb8d53d71"
    }
   },
   "outputs": [
    {
     "data": {
      "text/plain": [
       "-1"
      ]
     },
     "execution_count": 43,
     "metadata": {},
     "output_type": "execute_result"
    }
   ],
   "source": [
    "uni.find(\"lou\")"
   ]
  },
  {
   "cell_type": "markdown",
   "metadata": {
    "nbpresent": {
     "id": "3dea706d-c14b-4d76-a597-e9ba386fb0a7"
    }
   },
   "source": [
    "FYI, _find_ is case sensitive. The return value of -1 means that \"lou\" was not found. Now, let's take a different look at \"Saint Louis Univerisity\""
   ]
  },
  {
   "cell_type": "code",
   "execution_count": 44,
   "metadata": {
    "collapsed": true,
    "nbpresent": {
     "id": "0e6274cb-f50f-4397-8f92-fd1d2ced86bb"
    }
   },
   "outputs": [],
   "source": [
    "name_list = [\"Saint\", \"Louis\", \"University\"]"
   ]
  },
  {
   "cell_type": "code",
   "execution_count": 45,
   "metadata": {
    "nbpresent": {
     "id": "7d22514a-bec0-4a99-8c94-f40903a0df62"
    }
   },
   "outputs": [
    {
     "data": {
      "text/plain": [
       "'Saint'"
      ]
     },
     "execution_count": 45,
     "metadata": {},
     "output_type": "execute_result"
    }
   ],
   "source": [
    "name_list[0]"
   ]
  },
  {
   "cell_type": "code",
   "execution_count": 46,
   "metadata": {
    "nbpresent": {
     "id": "2a527093-0568-4dc9-91d6-0bb145c3b9d7"
    }
   },
   "outputs": [],
   "source": [
    "space = \" \""
   ]
  },
  {
   "cell_type": "code",
   "execution_count": 47,
   "metadata": {
    "nbpresent": {
     "id": "bd00a171-5bd7-4885-82b0-1bdf46548a3b"
    }
   },
   "outputs": [
    {
     "data": {
      "text/plain": [
       "'Saint Louis University'"
      ]
     },
     "execution_count": 47,
     "metadata": {},
     "output_type": "execute_result"
    }
   ],
   "source": [
    "space.join(name_list)"
   ]
  },
  {
   "cell_type": "markdown",
   "metadata": {
    "nbpresent": {
     "id": "0d6a2f6c-8c55-4d0c-979b-2f02643a655d"
    }
   },
   "source": [
    "The _split_ method is commonly used to split strings into substrings. For example:"
   ]
  },
  {
   "cell_type": "code",
   "execution_count": 48,
   "metadata": {
    "collapsed": true,
    "nbpresent": {
     "id": "010ac542-4aa0-485f-acf7-a365e4bd2873"
    }
   },
   "outputs": [],
   "source": [
    "dept = \"Center for Sustainability\""
   ]
  },
  {
   "cell_type": "code",
   "execution_count": 49,
   "metadata": {
    "nbpresent": {
     "id": "d47faf56-573a-4c84-b3aa-47183850591d"
    }
   },
   "outputs": [
    {
     "data": {
      "text/plain": [
       "['Center', 'for', 'Sustainability']"
      ]
     },
     "execution_count": 49,
     "metadata": {},
     "output_type": "execute_result"
    }
   ],
   "source": [
    "dept.split()"
   ]
  },
  {
   "cell_type": "markdown",
   "metadata": {
    "nbpresent": {
     "id": "7f416c17-420b-4dd2-9a89-3f534ca29bcc"
    }
   },
   "source": [
    "The replace method will be very powerful when we neet to modify filenames. For example:"
   ]
  },
  {
   "cell_type": "code",
   "execution_count": 50,
   "metadata": {
    "collapsed": true,
    "nbpresent": {
     "id": "f01e9749-dc4f-4aa7-a395-a9cc4e0dfb56"
    }
   },
   "outputs": [],
   "source": [
    "filename = \"C:/PROJECTS/Census/usa_blocks.txt\""
   ]
  },
  {
   "cell_type": "code",
   "execution_count": 51,
   "metadata": {
    "nbpresent": {
     "id": "85969978-a0d7-4934-9c05-3e2e96496a3a"
    }
   },
   "outputs": [
    {
     "data": {
      "text/plain": [
       "'C:/PROJECTS/Census/usa_blocks.shp'"
      ]
     },
     "execution_count": 51,
     "metadata": {},
     "output_type": "execute_result"
    }
   ],
   "source": [
    "filename.replace(\"txt\", \"shp\")"
   ]
  },
  {
   "cell_type": "markdown",
   "metadata": {
    "nbpresent": {
     "id": "d4f7b814-b296-47ae-8925-6ced00762cb1"
    }
   },
   "source": [
    "## Question 9: What is the resulting filename from when you replaced \"txt\" with \"shp\"?"
   ]
  },
  {
   "cell_type": "markdown",
   "metadata": {
    "nbpresent": {
     "id": "dc5661a8-4483-4667-bbfd-b0ffd16f145c"
    }
   },
   "source": [
    "## Tuples"
   ]
  },
  {
   "cell_type": "markdown",
   "metadata": {
    "collapsed": true,
    "nbpresent": {
     "id": "5f50cb30-c8c6-40f4-a8ce-255bbe79c8dd"
    }
   },
   "source": [
    "Tuples, which are related to list, are denoted by () rather than []. UNlike lists, however, they can contain a mix of data types (i.e. strings and numbers) and they are immutable, meaning that once created it can not be adjusted or extended. Here are a few tuples."
   ]
  },
  {
   "cell_type": "code",
   "execution_count": 52,
   "metadata": {
    "nbpresent": {
     "id": "869c5aff-173c-459e-a662-84e0b7337851"
    }
   },
   "outputs": [
    {
     "name": "stdout",
     "output_type": "stream",
     "text": [
      "('brown eyes', 'brown hair', 34)\n"
     ]
    }
   ],
   "source": [
    "greg = ('brown eyes', 'brown hair', 34)\n",
    "print(greg)"
   ]
  },
  {
   "cell_type": "markdown",
   "metadata": {
    "nbpresent": {
     "id": "6273539a-713f-40f3-9e1e-1f31bce2b20e"
    }
   },
   "source": [
    "## Dictionaries"
   ]
  },
  {
   "cell_type": "markdown",
   "metadata": {
    "nbpresent": {
     "id": "65bfc4dc-69ce-4d52-b4f8-8a109a074cab"
    }
   },
   "source": [
    "Truth be told, I didn't use dictionaries in Python until I had used Python for 2 or 3 years!  Once I learned what they were, I started using them for everything! \n",
    "\n",
    "NBA.com has a unique ID number for every player.  That number is how the player is identified in their database and on their website. For example, [Russell Westbrook](http://stats.nba.com/player/#!/201566/) is identified by the number _201566_. Going to the url http://stats.nba.com/player/#!/201566/ takes you to his stats page.  Here, I have a dictionary of player names and their ID numbers."
   ]
  },
  {
   "cell_type": "code",
   "execution_count": 53,
   "metadata": {
    "collapsed": true,
    "nbpresent": {
     "id": "9721c516-eef6-42d6-812b-f9461f477ca3"
    }
   },
   "outputs": [],
   "source": [
    "players = {'lebron james': '2544',\n",
    "    'kevin durant': '201142',\n",
    "    'anthony davis': '203076',\n",
    "    'unknown': '201939',\n",
    "    'james harden': '201935',\n",
    "    'chris paul': '101108',\n",
    "    'russel westbrook': '201566',\n",
    "    'blake griffin': '201933',\n",
    "    'marc gasol': '201188',\n",
    "    'kawhi leonard': '202695'}"
   ]
  },
  {
   "cell_type": "code",
   "execution_count": 54,
   "metadata": {
    "nbpresent": {
     "id": "78c46028-8396-4cff-86c5-7e86f1a0ac7f"
    }
   },
   "outputs": [
    {
     "name": "stdout",
     "output_type": "stream",
     "text": [
      "http://stats.nba.com/player/#!/201939\n"
     ]
    }
   ],
   "source": [
    "stats_url = 'http://stats.nba.com/player/#!/' + players['unknown']\n",
    "print(stats_url)"
   ]
  },
  {
   "cell_type": "markdown",
   "metadata": {
    "nbpresent": {
     "id": "3900d682-c56a-41df-8403-c89ad3f799b6"
    }
   },
   "source": [
    "## Questions 10: Go to the stats_url. What is the name of the 'unknown' player?"
   ]
  },
  {
   "cell_type": "markdown",
   "metadata": {
    "nbpresent": {
     "id": "a3cdfea4-c76f-458e-be7e-f52778e8bee9"
    }
   },
   "source": [
    "# This is the end of the excercise. Please submit the answers to the questions by the beginning of next class."
   ]
  }
 ],
 "metadata": {
  "anaconda-cloud": {},
  "kernelspec": {
   "display_name": "Python 3",
   "language": "python",
   "name": "python3"
  },
  "language_info": {
   "codemirror_mode": {
    "name": "ipython",
    "version": 3
   },
   "file_extension": ".py",
   "mimetype": "text/x-python",
   "name": "python",
   "nbconvert_exporter": "python",
   "pygments_lexer": "ipython3",
   "version": "3.6.9"
  }
 },
 "nbformat": 4,
 "nbformat_minor": 1
}
